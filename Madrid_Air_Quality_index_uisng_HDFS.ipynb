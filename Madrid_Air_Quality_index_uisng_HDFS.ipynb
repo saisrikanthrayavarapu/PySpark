{
  "nbformat": 4,
  "nbformat_minor": 0,
  "metadata": {
    "colab": {
      "provenance": [],
      "authorship_tag": "ABX9TyP3Kk68xq+sVliGfKVYQuz7",
      "include_colab_link": true
    },
    "kernelspec": {
      "name": "python3",
      "display_name": "Python 3"
    },
    "language_info": {
      "name": "python"
    }
  },
  "cells": [
    {
      "cell_type": "markdown",
      "metadata": {
        "id": "view-in-github",
        "colab_type": "text"
      },
      "source": [
        "<a href=\"https://colab.research.google.com/github/saisrikanthrayavarapu/PySpark/blob/master/Madrid_Air_Quality_index_uisng_HDFS.ipynb\" target=\"_parent\"><img src=\"https://colab.research.google.com/assets/colab-badge.svg\" alt=\"Open In Colab\"/></a>"
      ]
    },
    {
      "cell_type": "code",
      "execution_count": 1,
      "metadata": {
        "colab": {
          "base_uri": "https://localhost:8080/"
        },
        "id": "8ydYzTKnfqGk",
        "outputId": "4f110140-ebef-481f-f350-8d36ae2c0605"
      },
      "outputs": [
        {
          "output_type": "stream",
          "name": "stdout",
          "text": [
            "\u001b[K     |████████████████████████████████| 281.3 MB 49 kB/s \n",
            "\u001b[K     |████████████████████████████████| 199 kB 57.1 MB/s \n",
            "\u001b[?25h  Building wheel for pyspark (setup.py) ... \u001b[?25l\u001b[?25hdone\n"
          ]
        }
      ],
      "source": [
        "# install java\n",
        "!apt-get install openjdk-8-jdk-headless -qq > /dev/null\n",
        "\n",
        "# install spark (change the version number if needed)\n",
        "!wget -q https://downloads.apache.org/spark/spark-3.3.0/spark-3.3.0-bin-hadoop3.tgz\n",
        "\n",
        "# unzip the spark file to the current folder\n",
        "!tar xf spark-3.3.0-bin-hadoop3.tgz\n",
        "\n",
        "!pip install -q findspark\n",
        "\n",
        "!pip install -q pyspark\n",
        "\n",
        "!pip install -q kaggle"
      ]
    },
    {
      "cell_type": "code",
      "source": [
        "# set your spark folder to your system path environment. \n",
        "import os\n",
        "os.environ[\"JAVA_HOME\"] = \"/usr/lib/jvm/java-8-openjdk-amd64\"\n",
        "os.environ[\"SPARK_HOME\"] = \"/content/spark-3.3.0-bin-hadoop3\""
      ],
      "metadata": {
        "id": "UiTcnLBRfxF_"
      },
      "execution_count": 2,
      "outputs": []
    },
    {
      "cell_type": "code",
      "source": [
        "import findspark\n",
        "findspark.init()\n",
        "\n",
        "from pyspark.sql import SparkSession\n",
        "spark = SparkSession.builder.master(\"local[*]\").getOrCreate()"
      ],
      "metadata": {
        "id": "Sd-Sz7NOiI63"
      },
      "execution_count": 3,
      "outputs": []
    },
    {
      "cell_type": "code",
      "source": [
        "# Auto auth is not implemented, authorize google drive manually for execution\n",
        "\n",
        "# mounting Google drive on colab\n",
        "from google.colab import drive\n",
        "drive.mount('/content/drive')"
      ],
      "metadata": {
        "colab": {
          "base_uri": "https://localhost:8080/"
        },
        "id": "U-xZSFgmpX5T",
        "outputId": "b0d8e13c-5ca8-4c66-f7d3-47ec547707bc"
      },
      "execution_count": 4,
      "outputs": [
        {
          "output_type": "stream",
          "name": "stdout",
          "text": [
            "Mounted at /content/drive\n"
          ]
        }
      ]
    },
    {
      "cell_type": "code",
      "source": [
        "!mkdir ~/.kaggle # create root folder for copying input file\n",
        "!cp /content/drive/MyDrive/kaggle.json ~/.kaggle/kaggle.json"
      ],
      "metadata": {
        "id": "NAsU02-SpY1_"
      },
      "execution_count": 5,
      "outputs": []
    },
    {
      "cell_type": "code",
      "source": [
        "!kaggle datasets download -d decide-soluciones/air-quality-madrid -f madrid.h5\n",
        "# downloading the data set (CSV format) in the session"
      ],
      "metadata": {
        "colab": {
          "base_uri": "https://localhost:8080/"
        },
        "id": "HahEGU99pi9P",
        "outputId": "b8606cc0-d04e-4232-b496-795ddac0a6b4"
      },
      "execution_count": 6,
      "outputs": [
        {
          "output_type": "stream",
          "name": "stdout",
          "text": [
            "Downloading madrid.h5.zip to /content\n",
            " 81% 57.0M/70.3M [00:01<00:00, 53.3MB/s]\n",
            "100% 70.3M/70.3M [00:01<00:00, 60.7MB/s]\n"
          ]
        }
      ]
    },
    {
      "cell_type": "code",
      "source": [
        "# unzipping the file in the created directory\n",
        "!unzip -q \"/content/madrid.h5.zip\"\n",
        "# Removing the downloaded zip file from session storage\n",
        "!rm /content/madrid.h5.zip"
      ],
      "metadata": {
        "id": "7TDHaZmTq0AW"
      },
      "execution_count": 7,
      "outputs": []
    },
    {
      "cell_type": "code",
      "source": [
        "spark.sql(\"show databases\").show()"
      ],
      "metadata": {
        "colab": {
          "base_uri": "https://localhost:8080/"
        },
        "id": "_Xfjm7PIjiRM",
        "outputId": "cc84c0c6-af95-4817-befd-570f5c0fc8b3"
      },
      "execution_count": 8,
      "outputs": [
        {
          "output_type": "stream",
          "name": "stdout",
          "text": [
            "+---------+\n",
            "|namespace|\n",
            "+---------+\n",
            "|  default|\n",
            "+---------+\n",
            "\n"
          ]
        }
      ]
    },
    {
      "cell_type": "code",
      "source": [
        "import pandas as pd\n",
        "air_quality_df = pd.read_hdf('/content/madrid.h5', key='28079008') \n",
        "air_quality_df.head()"
      ],
      "metadata": {
        "colab": {
          "base_uri": "https://localhost:8080/",
          "height": 475
        },
        "id": "6Nof5gFDoAKL",
        "outputId": "820a650d-3a4a-4534-c45f-12a9cfd61bac"
      },
      "execution_count": 9,
      "outputs": [
        {
          "output_type": "execute_result",
          "data": {
            "text/plain": [
              "                       BEN  CH4    CO        EBE  NMHC  NO        NO_2  \\\n",
              "date                                                                     \n",
              "2001-07-01 01:00:00  30.65  NaN  6.91  42.639999   NaN NaN  381.299988   \n",
              "2001-07-01 02:00:00  29.59  NaN  2.59  50.360001   NaN NaN  209.500000   \n",
              "2001-07-01 03:00:00   4.69  NaN  0.76  25.570000   NaN NaN  116.400002   \n",
              "2001-07-01 04:00:00   4.46  NaN  0.74  22.629999   NaN NaN  116.199997   \n",
              "2001-07-01 05:00:00   2.18  NaN  0.57  11.920000   NaN NaN  100.900002   \n",
              "\n",
              "                             NOx        O_3        PM10  PM25       SO_2  TCH  \\\n",
              "date                                                                            \n",
              "2001-07-01 01:00:00  1017.000000   9.010000  158.899994   NaN  47.509998  NaN   \n",
              "2001-07-01 02:00:00   409.200012  23.820000  104.800003   NaN  20.950001  NaN   \n",
              "2001-07-01 03:00:00   143.399994  31.059999   48.470001   NaN  11.270000  NaN   \n",
              "2001-07-01 04:00:00   149.300003  23.780001   47.500000   NaN  10.100000  NaN   \n",
              "2001-07-01 05:00:00   124.800003  29.530001   49.689999   NaN   7.680000  NaN   \n",
              "\n",
              "                           TOL  \n",
              "date                            \n",
              "2001-07-01 01:00:00  76.050003  \n",
              "2001-07-01 02:00:00  84.900002  \n",
              "2001-07-01 03:00:00  20.980000  \n",
              "2001-07-01 04:00:00  14.770000  \n",
              "2001-07-01 05:00:00   8.970000  "
            ],
            "text/html": [
              "\n",
              "  <div id=\"df-3e84f2f8-2626-46bc-a9cc-ea125299576d\">\n",
              "    <div class=\"colab-df-container\">\n",
              "      <div>\n",
              "<style scoped>\n",
              "    .dataframe tbody tr th:only-of-type {\n",
              "        vertical-align: middle;\n",
              "    }\n",
              "\n",
              "    .dataframe tbody tr th {\n",
              "        vertical-align: top;\n",
              "    }\n",
              "\n",
              "    .dataframe thead th {\n",
              "        text-align: right;\n",
              "    }\n",
              "</style>\n",
              "<table border=\"1\" class=\"dataframe\">\n",
              "  <thead>\n",
              "    <tr style=\"text-align: right;\">\n",
              "      <th></th>\n",
              "      <th>BEN</th>\n",
              "      <th>CH4</th>\n",
              "      <th>CO</th>\n",
              "      <th>EBE</th>\n",
              "      <th>NMHC</th>\n",
              "      <th>NO</th>\n",
              "      <th>NO_2</th>\n",
              "      <th>NOx</th>\n",
              "      <th>O_3</th>\n",
              "      <th>PM10</th>\n",
              "      <th>PM25</th>\n",
              "      <th>SO_2</th>\n",
              "      <th>TCH</th>\n",
              "      <th>TOL</th>\n",
              "    </tr>\n",
              "    <tr>\n",
              "      <th>date</th>\n",
              "      <th></th>\n",
              "      <th></th>\n",
              "      <th></th>\n",
              "      <th></th>\n",
              "      <th></th>\n",
              "      <th></th>\n",
              "      <th></th>\n",
              "      <th></th>\n",
              "      <th></th>\n",
              "      <th></th>\n",
              "      <th></th>\n",
              "      <th></th>\n",
              "      <th></th>\n",
              "      <th></th>\n",
              "    </tr>\n",
              "  </thead>\n",
              "  <tbody>\n",
              "    <tr>\n",
              "      <th>2001-07-01 01:00:00</th>\n",
              "      <td>30.65</td>\n",
              "      <td>NaN</td>\n",
              "      <td>6.91</td>\n",
              "      <td>42.639999</td>\n",
              "      <td>NaN</td>\n",
              "      <td>NaN</td>\n",
              "      <td>381.299988</td>\n",
              "      <td>1017.000000</td>\n",
              "      <td>9.010000</td>\n",
              "      <td>158.899994</td>\n",
              "      <td>NaN</td>\n",
              "      <td>47.509998</td>\n",
              "      <td>NaN</td>\n",
              "      <td>76.050003</td>\n",
              "    </tr>\n",
              "    <tr>\n",
              "      <th>2001-07-01 02:00:00</th>\n",
              "      <td>29.59</td>\n",
              "      <td>NaN</td>\n",
              "      <td>2.59</td>\n",
              "      <td>50.360001</td>\n",
              "      <td>NaN</td>\n",
              "      <td>NaN</td>\n",
              "      <td>209.500000</td>\n",
              "      <td>409.200012</td>\n",
              "      <td>23.820000</td>\n",
              "      <td>104.800003</td>\n",
              "      <td>NaN</td>\n",
              "      <td>20.950001</td>\n",
              "      <td>NaN</td>\n",
              "      <td>84.900002</td>\n",
              "    </tr>\n",
              "    <tr>\n",
              "      <th>2001-07-01 03:00:00</th>\n",
              "      <td>4.69</td>\n",
              "      <td>NaN</td>\n",
              "      <td>0.76</td>\n",
              "      <td>25.570000</td>\n",
              "      <td>NaN</td>\n",
              "      <td>NaN</td>\n",
              "      <td>116.400002</td>\n",
              "      <td>143.399994</td>\n",
              "      <td>31.059999</td>\n",
              "      <td>48.470001</td>\n",
              "      <td>NaN</td>\n",
              "      <td>11.270000</td>\n",
              "      <td>NaN</td>\n",
              "      <td>20.980000</td>\n",
              "    </tr>\n",
              "    <tr>\n",
              "      <th>2001-07-01 04:00:00</th>\n",
              "      <td>4.46</td>\n",
              "      <td>NaN</td>\n",
              "      <td>0.74</td>\n",
              "      <td>22.629999</td>\n",
              "      <td>NaN</td>\n",
              "      <td>NaN</td>\n",
              "      <td>116.199997</td>\n",
              "      <td>149.300003</td>\n",
              "      <td>23.780001</td>\n",
              "      <td>47.500000</td>\n",
              "      <td>NaN</td>\n",
              "      <td>10.100000</td>\n",
              "      <td>NaN</td>\n",
              "      <td>14.770000</td>\n",
              "    </tr>\n",
              "    <tr>\n",
              "      <th>2001-07-01 05:00:00</th>\n",
              "      <td>2.18</td>\n",
              "      <td>NaN</td>\n",
              "      <td>0.57</td>\n",
              "      <td>11.920000</td>\n",
              "      <td>NaN</td>\n",
              "      <td>NaN</td>\n",
              "      <td>100.900002</td>\n",
              "      <td>124.800003</td>\n",
              "      <td>29.530001</td>\n",
              "      <td>49.689999</td>\n",
              "      <td>NaN</td>\n",
              "      <td>7.680000</td>\n",
              "      <td>NaN</td>\n",
              "      <td>8.970000</td>\n",
              "    </tr>\n",
              "  </tbody>\n",
              "</table>\n",
              "</div>\n",
              "      <button class=\"colab-df-convert\" onclick=\"convertToInteractive('df-3e84f2f8-2626-46bc-a9cc-ea125299576d')\"\n",
              "              title=\"Convert this dataframe to an interactive table.\"\n",
              "              style=\"display:none;\">\n",
              "        \n",
              "  <svg xmlns=\"http://www.w3.org/2000/svg\" height=\"24px\"viewBox=\"0 0 24 24\"\n",
              "       width=\"24px\">\n",
              "    <path d=\"M0 0h24v24H0V0z\" fill=\"none\"/>\n",
              "    <path d=\"M18.56 5.44l.94 2.06.94-2.06 2.06-.94-2.06-.94-.94-2.06-.94 2.06-2.06.94zm-11 1L8.5 8.5l.94-2.06 2.06-.94-2.06-.94L8.5 2.5l-.94 2.06-2.06.94zm10 10l.94 2.06.94-2.06 2.06-.94-2.06-.94-.94-2.06-.94 2.06-2.06.94z\"/><path d=\"M17.41 7.96l-1.37-1.37c-.4-.4-.92-.59-1.43-.59-.52 0-1.04.2-1.43.59L10.3 9.45l-7.72 7.72c-.78.78-.78 2.05 0 2.83L4 21.41c.39.39.9.59 1.41.59.51 0 1.02-.2 1.41-.59l7.78-7.78 2.81-2.81c.8-.78.8-2.07 0-2.86zM5.41 20L4 18.59l7.72-7.72 1.47 1.35L5.41 20z\"/>\n",
              "  </svg>\n",
              "      </button>\n",
              "      \n",
              "  <style>\n",
              "    .colab-df-container {\n",
              "      display:flex;\n",
              "      flex-wrap:wrap;\n",
              "      gap: 12px;\n",
              "    }\n",
              "\n",
              "    .colab-df-convert {\n",
              "      background-color: #E8F0FE;\n",
              "      border: none;\n",
              "      border-radius: 50%;\n",
              "      cursor: pointer;\n",
              "      display: none;\n",
              "      fill: #1967D2;\n",
              "      height: 32px;\n",
              "      padding: 0 0 0 0;\n",
              "      width: 32px;\n",
              "    }\n",
              "\n",
              "    .colab-df-convert:hover {\n",
              "      background-color: #E2EBFA;\n",
              "      box-shadow: 0px 1px 2px rgba(60, 64, 67, 0.3), 0px 1px 3px 1px rgba(60, 64, 67, 0.15);\n",
              "      fill: #174EA6;\n",
              "    }\n",
              "\n",
              "    [theme=dark] .colab-df-convert {\n",
              "      background-color: #3B4455;\n",
              "      fill: #D2E3FC;\n",
              "    }\n",
              "\n",
              "    [theme=dark] .colab-df-convert:hover {\n",
              "      background-color: #434B5C;\n",
              "      box-shadow: 0px 1px 3px 1px rgba(0, 0, 0, 0.15);\n",
              "      filter: drop-shadow(0px 1px 2px rgba(0, 0, 0, 0.3));\n",
              "      fill: #FFFFFF;\n",
              "    }\n",
              "  </style>\n",
              "\n",
              "      <script>\n",
              "        const buttonEl =\n",
              "          document.querySelector('#df-3e84f2f8-2626-46bc-a9cc-ea125299576d button.colab-df-convert');\n",
              "        buttonEl.style.display =\n",
              "          google.colab.kernel.accessAllowed ? 'block' : 'none';\n",
              "\n",
              "        async function convertToInteractive(key) {\n",
              "          const element = document.querySelector('#df-3e84f2f8-2626-46bc-a9cc-ea125299576d');\n",
              "          const dataTable =\n",
              "            await google.colab.kernel.invokeFunction('convertToInteractive',\n",
              "                                                     [key], {});\n",
              "          if (!dataTable) return;\n",
              "\n",
              "          const docLinkHtml = 'Like what you see? Visit the ' +\n",
              "            '<a target=\"_blank\" href=https://colab.research.google.com/notebooks/data_table.ipynb>data table notebook</a>'\n",
              "            + ' to learn more about interactive tables.';\n",
              "          element.innerHTML = '';\n",
              "          dataTable['output_type'] = 'display_data';\n",
              "          await google.colab.output.renderOutput(dataTable, element);\n",
              "          const docLink = document.createElement('div');\n",
              "          docLink.innerHTML = docLinkHtml;\n",
              "          element.appendChild(docLink);\n",
              "        }\n",
              "      </script>\n",
              "    </div>\n",
              "  </div>\n",
              "  "
            ]
          },
          "metadata": {},
          "execution_count": 9
        }
      ]
    },
    {
      "cell_type": "code",
      "source": [
        "air_quality_df.reset_index(inplace=True) \n",
        "air_quality_df['date'] = air_quality_df['date'].dt.strftime('%Y-%m-%d %H:%M:%S')"
      ],
      "metadata": {
        "id": "C2aKDpQCre0O"
      },
      "execution_count": 10,
      "outputs": []
    },
    {
      "cell_type": "code",
      "source": [
        "air_quality_sdf = spark.createDataFrame(air_quality_df)"
      ],
      "metadata": {
        "id": "xykVkxIdryw-"
      },
      "execution_count": 11,
      "outputs": []
    },
    {
      "cell_type": "code",
      "source": [
        "air_quality_sdf.select('date', 'NOx').show(5)"
      ],
      "metadata": {
        "colab": {
          "base_uri": "https://localhost:8080/"
        },
        "id": "ETeaamDvr30g",
        "outputId": "7923fd18-8e90-4fe1-bcfe-a6373ec7e551"
      },
      "execution_count": 12,
      "outputs": [
        {
          "output_type": "stream",
          "name": "stdout",
          "text": [
            "+-------------------+------------------+\n",
            "|               date|               NOx|\n",
            "+-------------------+------------------+\n",
            "|2001-07-01 01:00:00|            1017.0|\n",
            "|2001-07-01 02:00:00|409.20001220703125|\n",
            "|2001-07-01 03:00:00|143.39999389648438|\n",
            "|2001-07-01 04:00:00| 149.3000030517578|\n",
            "|2001-07-01 05:00:00|124.80000305175781|\n",
            "+-------------------+------------------+\n",
            "only showing top 5 rows\n",
            "\n"
          ]
        }
      ]
    },
    {
      "cell_type": "code",
      "source": [
        "air_quality_sdf.createOrReplaceTempView(\"air_quality_sdf\")"
      ],
      "metadata": {
        "id": "IKVet98Zr86B"
      },
      "execution_count": 13,
      "outputs": []
    },
    {
      "cell_type": "code",
      "source": [
        "sql_create_database = \"\"\"\n",
        "create database if not exists analytics\n",
        "location '/user/cloudera/analytics/'\n",
        "\"\"\"\n",
        "result_create_db = spark.sql(sql_create_database)"
      ],
      "metadata": {
        "id": "V7VW8YF3sF16"
      },
      "execution_count": 14,
      "outputs": []
    },
    {
      "cell_type": "code",
      "source": [
        "sql_create_table = \"\"\" \n",
        "create table if not exists analytics.pandas_spark_hive \n",
        "using parquet as select \n",
        "to_timestamp(date) as date_parsed, * \n",
        "from air_quality_sdf\n",
        "\"\"\"\n",
        "result_create_table = spark.sql(sql_create_table)"
      ],
      "metadata": {
        "id": "aiYIKL2Usd6J"
      },
      "execution_count": 15,
      "outputs": []
    },
    {
      "cell_type": "code",
      "source": [
        "spark.sql(\"select * from analytics.pandas_spark_hive\").select(\"date_parsed\", \"O_3\").show(5)"
      ],
      "metadata": {
        "colab": {
          "base_uri": "https://localhost:8080/"
        },
        "id": "rDfziHhjskI0",
        "outputId": "76b84030-5dae-4e81-c250-06ae3670de19"
      },
      "execution_count": 16,
      "outputs": [
        {
          "output_type": "stream",
          "name": "stdout",
          "text": [
            "+-------------------+------------------+\n",
            "|        date_parsed|               O_3|\n",
            "+-------------------+------------------+\n",
            "|2001-07-01 01:00:00| 9.010000228881836|\n",
            "|2001-07-01 02:00:00| 23.81999969482422|\n",
            "|2001-07-01 03:00:00|31.059999465942383|\n",
            "|2001-07-01 04:00:00|23.780000686645508|\n",
            "|2001-07-01 05:00:00|29.530000686645508|\n",
            "+-------------------+------------------+\n",
            "only showing top 5 rows\n",
            "\n"
          ]
        }
      ]
    }
  ]
}