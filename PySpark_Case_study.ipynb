{
  "cells": [
    {
      "cell_type": "markdown",
      "metadata": {
        "id": "view-in-github",
        "colab_type": "text"
      },
      "source": [
        "<a href=\"https://colab.research.google.com/github/saisrikanthrayavarapu/PySpark/blob/master/PySpark_Case_study.ipynb\" target=\"_parent\"><img src=\"https://colab.research.google.com/assets/colab-badge.svg\" alt=\"Open In Colab\"/></a>"
      ]
    },
    {
      "cell_type": "markdown",
      "metadata": {
        "id": "ZtTRxMOCLhdN"
      },
      "source": [
        "### Objectives of the Case Study<br>\n",
        "Primarily, this case study is meant as a deep dive into the usage of Spark. As you saw while working with Spark, its syntax behaves differently from a regular Python syntax. One of the major objectives of this case study is to gain familiarity with how analysis works in PySpark as opposed to base Python.<br>\n",
        "\n",
        "The process of running a model-building command boils down to a few lines of code. While drawing inferences from data, the most time-consuming step is preparing the data up to the point of model building. So, this case study will focus more on exploratory analysis."
      ]
    },
    {
      "cell_type": "code",
      "source": [
        "!pip install pyspark -q\n",
        "!pip install kaggle -q"
      ],
      "metadata": {
        "colab": {
          "base_uri": "https://localhost:8080/"
        },
        "id": "XnH7YnzxPKUR",
        "outputId": "1dfb4815-66c9-4b1d-ae1d-99ba6e370d49"
      },
      "execution_count": 1,
      "outputs": [
        {
          "output_type": "stream",
          "name": "stdout",
          "text": [
            "\u001b[K     |████████████████████████████████| 281.3 MB 44 kB/s \n",
            "\u001b[K     |████████████████████████████████| 199 kB 66.9 MB/s \n",
            "\u001b[?25h  Building wheel for pyspark (setup.py) ... \u001b[?25l\u001b[?25hdone\n"
          ]
        }
      ]
    },
    {
      "cell_type": "code",
      "execution_count": 2,
      "metadata": {
        "id": "fd3wIUk6Lhda"
      },
      "outputs": [],
      "source": [
        "# Importing spark session\n",
        "from pyspark.sql import SparkSession\n",
        "spark = SparkSession.builder \\\n",
        "            .appName(\"EDA\") \\\n",
        "            .getOrCreate()"
      ]
    },
    {
      "cell_type": "code",
      "source": [
        "# Auto auth is not implemented, authorize google drive manually for execution\n",
        "\n",
        "# mounting Google drive on colab\n",
        "from google.colab import drive\n",
        "drive.mount('/content/drive')"
      ],
      "metadata": {
        "colab": {
          "base_uri": "https://localhost:8080/"
        },
        "id": "N7h-WnnFMDr7",
        "outputId": "83969b3e-c790-4e30-dbd0-8f69ada5d142"
      },
      "execution_count": 3,
      "outputs": [
        {
          "output_type": "stream",
          "name": "stdout",
          "text": [
            "Mounted at /content/drive\n"
          ]
        }
      ]
    },
    {
      "cell_type": "code",
      "source": [
        "!mkdir ~/.kaggle # create root folder for copying input file\n",
        "!cp /content/drive/MyDrive/kaggle.json ~/.kaggle/kaggle.json"
      ],
      "metadata": {
        "id": "rpaIfseNQks1"
      },
      "execution_count": 4,
      "outputs": []
    },
    {
      "cell_type": "code",
      "source": [
        "!mkdir '/content/NYC_Parking_Tickets' # creating a new directory that serves as root\n",
        "!kaggle datasets download -d new-york-city/nyc-parking-tickets -f Parking_Violations_Issued_-_Fiscal_Year_2014__August_2013___June_2014_.csv\n",
        "# downloading the data set (CSV format) in the session"
      ],
      "metadata": {
        "colab": {
          "base_uri": "https://localhost:8080/"
        },
        "id": "nTRkfyeEMEtt",
        "outputId": "33cb2283-9d15-4399-9815-b75097dd357e"
      },
      "execution_count": 5,
      "outputs": [
        {
          "output_type": "stream",
          "name": "stdout",
          "text": [
            "Downloading Parking_Violations_Issued_-_Fiscal_Year_2014__August_2013___June_2014_.csv.zip to /content\n",
            " 95% 337M/356M [00:12<00:00, 31.3MB/s]\n",
            "100% 356M/356M [00:12<00:00, 30.4MB/s]\n"
          ]
        }
      ]
    },
    {
      "cell_type": "code",
      "source": [
        "# unzipping the file in the created directory\n",
        "!unzip -q \"/content/Parking_Violations_Issued_-_Fiscal_Year_2014__August_2013___June_2014_.csv.zip\" -d \"/content/NYC_Parking_Tickets\"\n",
        "# Removing the downloaded zip file from session storage\n",
        "!rm /content/Parking_Violations_Issued_-_Fiscal_Year_2014__August_2013___June_2014_.csv.zip"
      ],
      "metadata": {
        "id": "5exsqNQDVnaK"
      },
      "execution_count": 6,
      "outputs": []
    },
    {
      "cell_type": "code",
      "execution_count": 7,
      "metadata": {
        "id": "Dbuy9abyLhdj"
      },
      "outputs": [],
      "source": [
        "# Loading the data\n",
        "df = spark.read.format(\"csv\").option(\"header\", \"true\").option(\"inferSchema\", \"true\").load('/content/NYC_Parking_Tickets/Parking_Violations_Issued_-_Fiscal_Year_2014__August_2013___June_2014_.csv')"
      ]
    },
    {
      "cell_type": "code",
      "execution_count": 8,
      "metadata": {
        "colab": {
          "base_uri": "https://localhost:8080/"
        },
        "id": "tWk5gzhZLhdl",
        "outputId": "52e19096-aad9-44d8-9872-78d632a2a29e"
      },
      "outputs": [
        {
          "output_type": "stream",
          "name": "stdout",
          "text": [
            "+--------------+--------+------------------+----------+----------+--------------+-----------------+------------+--------------+------------+------------+------------+-----------------------+------------------+------------------+---------------+-----------+--------------+------------+--------------+-------------------+----------------+---------------------------------+------------+--------------------+-------------------+-------------------+-----------+------------+--------------------+--------------------------+--------------------+------------------+-------------+---------------------+------------+------------+--------------+-------------------+---------------------+---------------------------------+-----------------+------------------------+--------+---------+---------------+------------------+------------+----+----+----+\n",
            "|Summons Number|Plate ID|Registration State|Plate Type|Issue Date|Violation Code|Vehicle Body Type|Vehicle Make|Issuing Agency|Street Code1|Street Code2|Street Code3|Vehicle Expiration Date|Violation Location|Violation Precinct|Issuer Precinct|Issuer Code|Issuer Command|Issuer Squad|Violation Time|Time First Observed|Violation County|Violation In Front Of Or Opposite|House Number|         Street Name|Intersecting Street|Date First Observed|Law Section|Sub Division|Violation Legal Code|Days Parking In Effect    |From Hours In Effect|To Hours In Effect|Vehicle Color|Unregistered Vehicle?|Vehicle Year|Meter Number|Feet From Curb|Violation Post Code|Violation Description|No Standing or Stopping Violation|Hydrant Violation|Double Parking Violation|Latitude|Longitude|Community Board|Community Council |Census Tract| BIN| BBL| NTA|\n",
            "+--------------+--------+------------------+----------+----------+--------------+-----------------+------------+--------------+------------+------------+------------+-----------------------+------------------+------------------+---------------+-----------+--------------+------------+--------------+-------------------+----------------+---------------------------------+------------+--------------------+-------------------+-------------------+-----------+------------+--------------------+--------------------------+--------------------+------------------+-------------+---------------------+------------+------------+--------------+-------------------+---------------------+---------------------------------+-----------------+------------------------+--------+---------+---------------+------------------+------------+----+----+----+\n",
            "|    1283294138| GBB9093|                NY|       PAS|08/04/2013|            46|             SUBN|        AUDI|             P|       37250|       13610|       21190|               20140831|                33|                33|             33|     921043|          0033|        0000|         0752A|               null|            null|                                F|         712|            W 175 ST|               null|                  0|        408|          F1|                null|                   BBBBBBB|                 ALL|               ALL|           GY|                    0|        2013|           -|             0|               null|                 null|                             null|             null|                    null|    null|     null|           null|              null|        null|null|null|null|\n",
            "|    1283294151| 62416MB|                NY|       COM|08/04/2013|            46|              VAN|        FORD|             P|       37290|       40404|       40404|               20140430|                33|                33|             33|     921043|          0033|        0000|         1240P|               null|              NY|                                O|         201|            W 177 ST|               null|                  0|        408|           C|                null|                   BBBBBBB|                 ALL|               ALL|           WH|                    0|        2012|           -|             0|               null|                 null|                             null|             null|                    null|    null|     null|           null|              null|        null|null|null|null|\n",
            "|    1283294163| 78755JZ|                NY|       COM|08/05/2013|            46|              P-U|       CHEVR|             P|       37030|       31190|       13610|               20140228|                33|                33|             33|     921043|          0033|        0000|         1243P|               null|              NY|                                O|         520|            W 163 ST|               null|                  0|        408|          F7|                null|                   BBBBBBB|                 ALL|               ALL|         null|                    0|           0|           -|             0|               null|                 null|                             null|             null|                    null|    null|     null|           null|              null|        null|null|null|null|\n",
            "|    1283294175| 63009MA|                NY|       COM|08/05/2013|            46|              VAN|        FORD|             P|       37270|       11710|       12010|               20141031|                33|                33|             33|     921043|          0033|        0000|         0232P|               null|              NY|                                O|         517|            W 176 ST|               null|                  0|        408|          F1|                null|                   BBBBBBB|                 ALL|               ALL|           WH|                    0|        2010|           -|             0|               null|                 null|                             null|             null|                    null|    null|     null|           null|              null|        null|null|null|null|\n",
            "|    1283294187| 91648MC|                NY|       COM|08/08/2013|            41|             TRLR|         GMC|             P|       37240|       12010|       31190|                      0|                33|                33|             33|     921043|          0033|        0000|         1239P|               null|              NY|                                F|         590|            W 174 ST|               null|                  0|        408|          E1|                null|                   BBBBBBB|                 ALL|               ALL|           BR|                    0|        2012|           -|             0|               null|                 null|                             null|             null|                    null|    null|     null|           null|              null|        null|null|null|null|\n",
            "|    1283294217|  T60DAR|                NJ|       PAS|08/11/2013|            14|              P-U|       DODGE|             P|       37250|       10495|       12010|                      0|                33|                33|             33|     921043|          0033|        0000|         0617P|               null|              NY|                                F|         525|            W 175 ST|               null|                  0|        408|          F1|                null|                   BBBBBBB|                 ALL|               ALL|           RD|                    0|           0|           -|             0|               null|                 null|                             null|             null|                    null|    null|     null|           null|              null|        null|null|null|null|\n",
            "|    1283294229| GCR2838|                NY|       PAS|08/11/2013|            14|              VAN|        null|             P|       37250|       12010|       31190|               20141223|                33|                33|             33|     921043|          0033|        0000|         0741P|               null|              NY|                                F|         551|            W 175 ST|               null|                  0|        408|           C|                null|                   BBBBBBB|                 ALL|               ALL|           GN|                    0|        2011|           -|             0|               null|                 null|                             null|             null|                    null|    null|     null|           null|              null|        null|null|null|null|\n",
            "|    1283983620|  XZ764G|                NJ|       PAS|08/07/2013|            24|             DELV|        FORD|             X|       63430|           0|           0|                      0|                88|                88|            976|     101079|          0976|        0000|         0425A|               null|               K|                                F|         100|      N.PORTLAND AVE|  BROOKLYN NY 11206|                  0|        408|          E5|                null|                   BBBBBBB|                 ALL|               ALL|        WHITE|                    0|           0|           -|             0|               null|                 null|                             null|             null|                    null|    null|     null|           null|              null|        null|null|null|null|\n",
            "|    1283983631| GBH9379|                NY|       PAS|08/07/2013|            24|              SDN|       TOYOT|             X|       63430|           0|           0|               20140722|                88|                88|            976|     101079|          0976|        0000|         0437A|               null|               K|                                F|         100|      N.PORTLAND AVE|  BROOKLYN NY 11206|                  0|        408|          D5|                null|                   BBBBBBB|                 ALL|               ALL|        WHITE|                    0|        2001|           -|             0|               null|                 null|                             null|             null|                    null|    null|     null|           null|              null|        null|null|null|null|\n",
            "|    1283983667|  MCL78B|                NJ|       PAS|07/18/2013|            24|              SDN|       SUBAR|             H|           0|           0|           0|                      0|                79|                79|            976|     101043|          0976|        0000|         0839A|               null|               K|                                F|        null|760 BROADWAY ,BROOKL|  WOODHULL HOSPITAL|                  0|        408|           D|                null|                   BBBBBBB|                 ALL|               ALL|        BLACK|                    0|        2005|           -|             0|               null|                 null|                             null|             null|                    null|    null|     null|           null|              null|        null|null|null|null|\n",
            "+--------------+--------+------------------+----------+----------+--------------+-----------------+------------+--------------+------------+------------+------------+-----------------------+------------------+------------------+---------------+-----------+--------------+------------+--------------+-------------------+----------------+---------------------------------+------------+--------------------+-------------------+-------------------+-----------+------------+--------------------+--------------------------+--------------------+------------------+-------------+---------------------+------------+------------+--------------+-------------------+---------------------+---------------------------------+-----------------+------------------------+--------+---------+---------------+------------------+------------+----+----+----+\n",
            "only showing top 10 rows\n",
            "\n"
          ]
        }
      ],
      "source": [
        "# having a look at the data of first 10 rows\n",
        "df.show(10)"
      ]
    },
    {
      "cell_type": "code",
      "execution_count": 9,
      "metadata": {
        "colab": {
          "base_uri": "https://localhost:8080/"
        },
        "id": "aXFAdVKoLhdp",
        "outputId": "e5c2e6e9-81df-473f-e559-d6d2e485a2b6"
      },
      "outputs": [
        {
          "output_type": "execute_result",
          "data": {
            "text/plain": [
              "['Summons Number',\n",
              " 'Plate ID',\n",
              " 'Registration State',\n",
              " 'Plate Type',\n",
              " 'Issue Date',\n",
              " 'Violation Code',\n",
              " 'Vehicle Body Type',\n",
              " 'Vehicle Make',\n",
              " 'Issuing Agency',\n",
              " 'Street Code1',\n",
              " 'Street Code2',\n",
              " 'Street Code3',\n",
              " 'Vehicle Expiration Date',\n",
              " 'Violation Location',\n",
              " 'Violation Precinct',\n",
              " 'Issuer Precinct',\n",
              " 'Issuer Code',\n",
              " 'Issuer Command',\n",
              " 'Issuer Squad',\n",
              " 'Violation Time',\n",
              " 'Time First Observed',\n",
              " 'Violation County',\n",
              " 'Violation In Front Of Or Opposite',\n",
              " 'House Number',\n",
              " 'Street Name',\n",
              " 'Intersecting Street',\n",
              " 'Date First Observed',\n",
              " 'Law Section',\n",
              " 'Sub Division',\n",
              " 'Violation Legal Code',\n",
              " 'Days Parking In Effect    ',\n",
              " 'From Hours In Effect',\n",
              " 'To Hours In Effect',\n",
              " 'Vehicle Color',\n",
              " 'Unregistered Vehicle?',\n",
              " 'Vehicle Year',\n",
              " 'Meter Number',\n",
              " 'Feet From Curb',\n",
              " 'Violation Post Code',\n",
              " 'Violation Description',\n",
              " 'No Standing or Stopping Violation',\n",
              " 'Hydrant Violation',\n",
              " 'Double Parking Violation',\n",
              " 'Latitude',\n",
              " 'Longitude',\n",
              " 'Community Board',\n",
              " 'Community Council ',\n",
              " 'Census Tract',\n",
              " 'BIN',\n",
              " 'BBL',\n",
              " 'NTA']"
            ]
          },
          "metadata": {},
          "execution_count": 9
        }
      ],
      "source": [
        "# Viewing all the columns of the data set\n",
        "df.columns"
      ]
    },
    {
      "cell_type": "code",
      "execution_count": 10,
      "metadata": {
        "colab": {
          "base_uri": "https://localhost:8080/"
        },
        "id": "AorWlK8-Lhdq",
        "outputId": "587bb671-07cc-49d7-e23c-fbd8d0f173f5"
      },
      "outputs": [
        {
          "output_type": "execute_result",
          "data": {
            "text/plain": [
              "51"
            ]
          },
          "metadata": {},
          "execution_count": 10
        }
      ],
      "source": [
        "# number of columns\n",
        "len(df.columns)"
      ]
    },
    {
      "cell_type": "code",
      "execution_count": 11,
      "metadata": {
        "colab": {
          "base_uri": "https://localhost:8080/"
        },
        "id": "rxI945zuLhdr",
        "outputId": "6f322bfc-b0f8-4bbe-8a61-97177f223123"
      },
      "outputs": [
        {
          "output_type": "execute_result",
          "data": {
            "text/plain": [
              "9100278"
            ]
          },
          "metadata": {},
          "execution_count": 11
        }
      ],
      "source": [
        "# Looking at the number of enteries in the data\n",
        "df.count()"
      ]
    },
    {
      "cell_type": "code",
      "execution_count": 12,
      "metadata": {
        "colab": {
          "base_uri": "https://localhost:8080/"
        },
        "id": "ycvyYE-OLhds",
        "outputId": "0d1bbfbf-518b-4871-a7bc-5360fdcd3c7c"
      },
      "outputs": [
        {
          "output_type": "stream",
          "name": "stdout",
          "text": [
            "root\n",
            " |-- Summons Number: long (nullable = true)\n",
            " |-- Plate ID: string (nullable = true)\n",
            " |-- Registration State: string (nullable = true)\n",
            " |-- Plate Type: string (nullable = true)\n",
            " |-- Issue Date: string (nullable = true)\n",
            " |-- Violation Code: integer (nullable = true)\n",
            " |-- Vehicle Body Type: string (nullable = true)\n",
            " |-- Vehicle Make: string (nullable = true)\n",
            " |-- Issuing Agency: string (nullable = true)\n",
            " |-- Street Code1: integer (nullable = true)\n",
            " |-- Street Code2: integer (nullable = true)\n",
            " |-- Street Code3: integer (nullable = true)\n",
            " |-- Vehicle Expiration Date: integer (nullable = true)\n",
            " |-- Violation Location: integer (nullable = true)\n",
            " |-- Violation Precinct: integer (nullable = true)\n",
            " |-- Issuer Precinct: integer (nullable = true)\n",
            " |-- Issuer Code: integer (nullable = true)\n",
            " |-- Issuer Command: string (nullable = true)\n",
            " |-- Issuer Squad: string (nullable = true)\n",
            " |-- Violation Time: string (nullable = true)\n",
            " |-- Time First Observed: string (nullable = true)\n",
            " |-- Violation County: string (nullable = true)\n",
            " |-- Violation In Front Of Or Opposite: string (nullable = true)\n",
            " |-- House Number: string (nullable = true)\n",
            " |-- Street Name: string (nullable = true)\n",
            " |-- Intersecting Street: string (nullable = true)\n",
            " |-- Date First Observed: string (nullable = true)\n",
            " |-- Law Section: string (nullable = true)\n",
            " |-- Sub Division: string (nullable = true)\n",
            " |-- Violation Legal Code: string (nullable = true)\n",
            " |-- Days Parking In Effect    : string (nullable = true)\n",
            " |-- From Hours In Effect: string (nullable = true)\n",
            " |-- To Hours In Effect: string (nullable = true)\n",
            " |-- Vehicle Color: string (nullable = true)\n",
            " |-- Unregistered Vehicle?: string (nullable = true)\n",
            " |-- Vehicle Year: string (nullable = true)\n",
            " |-- Meter Number: string (nullable = true)\n",
            " |-- Feet From Curb: string (nullable = true)\n",
            " |-- Violation Post Code: string (nullable = true)\n",
            " |-- Violation Description: string (nullable = true)\n",
            " |-- No Standing or Stopping Violation: string (nullable = true)\n",
            " |-- Hydrant Violation: string (nullable = true)\n",
            " |-- Double Parking Violation: string (nullable = true)\n",
            " |-- Latitude: string (nullable = true)\n",
            " |-- Longitude: string (nullable = true)\n",
            " |-- Community Board: string (nullable = true)\n",
            " |-- Community Council : string (nullable = true)\n",
            " |-- Census Tract: string (nullable = true)\n",
            " |-- BIN: string (nullable = true)\n",
            " |-- BBL: string (nullable = true)\n",
            " |-- NTA: string (nullable = true)\n",
            "\n"
          ]
        }
      ],
      "source": [
        "# Looking foir the type of the columns\n",
        "df.printSchema()"
      ]
    },
    {
      "cell_type": "code",
      "execution_count": 13,
      "metadata": {
        "colab": {
          "base_uri": "https://localhost:8080/"
        },
        "id": "rDwhE7FwLhdt",
        "outputId": "c8663846-7d23-4c45-fbce-6ef61dda01b4"
      },
      "outputs": [
        {
          "output_type": "execute_result",
          "data": {
            "text/plain": [
              "StructType([StructField('Summons Number', LongType(), True), StructField('Plate ID', StringType(), True), StructField('Registration State', StringType(), True), StructField('Plate Type', StringType(), True), StructField('Issue Date', StringType(), True), StructField('Violation Code', IntegerType(), True), StructField('Vehicle Body Type', StringType(), True), StructField('Vehicle Make', StringType(), True), StructField('Issuing Agency', StringType(), True), StructField('Street Code1', IntegerType(), True), StructField('Street Code2', IntegerType(), True), StructField('Street Code3', IntegerType(), True), StructField('Vehicle Expiration Date', IntegerType(), True), StructField('Violation Location', IntegerType(), True), StructField('Violation Precinct', IntegerType(), True), StructField('Issuer Precinct', IntegerType(), True), StructField('Issuer Code', IntegerType(), True), StructField('Issuer Command', StringType(), True), StructField('Issuer Squad', StringType(), True), StructField('Violation Time', StringType(), True), StructField('Time First Observed', StringType(), True), StructField('Violation County', StringType(), True), StructField('Violation In Front Of Or Opposite', StringType(), True), StructField('House Number', StringType(), True), StructField('Street Name', StringType(), True), StructField('Intersecting Street', StringType(), True), StructField('Date First Observed', StringType(), True), StructField('Law Section', StringType(), True), StructField('Sub Division', StringType(), True), StructField('Violation Legal Code', StringType(), True), StructField('Days Parking In Effect    ', StringType(), True), StructField('From Hours In Effect', StringType(), True), StructField('To Hours In Effect', StringType(), True), StructField('Vehicle Color', StringType(), True), StructField('Unregistered Vehicle?', StringType(), True), StructField('Vehicle Year', StringType(), True), StructField('Meter Number', StringType(), True), StructField('Feet From Curb', StringType(), True), StructField('Violation Post Code', StringType(), True), StructField('Violation Description', StringType(), True), StructField('No Standing or Stopping Violation', StringType(), True), StructField('Hydrant Violation', StringType(), True), StructField('Double Parking Violation', StringType(), True), StructField('Latitude', StringType(), True), StructField('Longitude', StringType(), True), StructField('Community Board', StringType(), True), StructField('Community Council ', StringType(), True), StructField('Census Tract', StringType(), True), StructField('BIN', StringType(), True), StructField('BBL', StringType(), True), StructField('NTA', StringType(), True)])"
            ]
          },
          "metadata": {},
          "execution_count": 13
        }
      ],
      "source": [
        "# verify schema types\n",
        "df.schema"
      ]
    },
    {
      "cell_type": "code",
      "execution_count": 14,
      "metadata": {
        "colab": {
          "base_uri": "https://localhost:8080/"
        },
        "id": "fOcrZb_uLhdu",
        "outputId": "51f1cb19-7778-43b1-d027-1367d89d75e6"
      },
      "outputs": [
        {
          "output_type": "execute_result",
          "data": {
            "text/plain": [
              "9100278"
            ]
          },
          "metadata": {},
          "execution_count": 14
        }
      ],
      "source": [
        "# Droping duplicates, hence cleaning data\n",
        "nyc = df.dropDuplicates()\n",
        "nyc.count()"
      ]
    },
    {
      "cell_type": "code",
      "execution_count": 15,
      "metadata": {
        "scrolled": true,
        "colab": {
          "base_uri": "https://localhost:8080/"
        },
        "id": "X1tXhtGNLhdv",
        "outputId": "e9e55a84-5d18-4a57-defd-1fcdc9fcdf9c"
      },
      "outputs": [
        {
          "output_type": "stream",
          "name": "stdout",
          "text": [
            "+-------+-------------------+\n",
            "|summary|     Summons Number|\n",
            "+-------+-------------------+\n",
            "|  count|            9100278|\n",
            "|   mean|6.486507134673545E9|\n",
            "| stddev|2.166447421200202E9|\n",
            "|    min|         1001793950|\n",
            "|    max|         8006150291|\n",
            "+-------+-------------------+\n",
            "\n"
          ]
        }
      ],
      "source": [
        "# Description of Summons Number Column\n",
        "nyc.describe(\"Summons Number\").show()"
      ]
    },
    {
      "cell_type": "code",
      "execution_count": 16,
      "metadata": {
        "colab": {
          "base_uri": "https://localhost:8080/"
        },
        "id": "QagMVd9HLhdw",
        "outputId": "33c061f4-345e-448d-c258-2b5835a4b9d4"
      },
      "outputs": [
        {
          "output_type": "stream",
          "name": "stdout",
          "text": [
            "+-------+--------+\n",
            "|summary|Plate ID|\n",
            "+-------+--------+\n",
            "|  count| 9100276|\n",
            "|   mean|     NaN|\n",
            "| stddev|     NaN|\n",
            "|    min|       !|\n",
            "|    max|       ]|\n",
            "+-------+--------+\n",
            "\n"
          ]
        }
      ],
      "source": [
        "# Description of Plate ID Column\n",
        "nyc.describe(\"Plate ID\").show()"
      ]
    },
    {
      "cell_type": "code",
      "execution_count": 17,
      "metadata": {
        "colab": {
          "base_uri": "https://localhost:8080/"
        },
        "id": "b7_P6QTDLhdx",
        "outputId": "ddf4302e-6bf8-4633-eadf-bc35e17d622e"
      },
      "outputs": [
        {
          "output_type": "stream",
          "name": "stdout",
          "text": [
            "+-------+--------------------+\n",
            "|summary|  Registration State|\n",
            "+-------+--------------------+\n",
            "|  count|             9100278|\n",
            "|   mean|                99.0|\n",
            "| stddev|1.320014773417410...|\n",
            "|    min|                  99|\n",
            "|    max|                  YT|\n",
            "+-------+--------------------+\n",
            "\n"
          ]
        }
      ],
      "source": [
        "# Description of Registration State Column\n",
        "nyc.describe(\"Registration State\").show()"
      ]
    },
    {
      "cell_type": "code",
      "execution_count": 18,
      "metadata": {
        "colab": {
          "base_uri": "https://localhost:8080/"
        },
        "id": "pkOTfXevLhdy",
        "outputId": "cdf0933e-a330-4fe1-a89a-1b28cde0a544"
      },
      "outputs": [
        {
          "output_type": "stream",
          "name": "stdout",
          "text": [
            "+-------+------------------+\n",
            "|summary|    Violation Code|\n",
            "+-------+------------------+\n",
            "|  count|           9100278|\n",
            "|   mean| 35.25493495912982|\n",
            "| stddev|20.505475119322274|\n",
            "|    min|                 0|\n",
            "|    max|                99|\n",
            "+-------+------------------+\n",
            "\n"
          ]
        }
      ],
      "source": [
        "# Description of Violation Code Column\n",
        "nyc.describe(\"Violation Code\").show()"
      ]
    },
    {
      "cell_type": "code",
      "execution_count": 19,
      "metadata": {
        "colab": {
          "base_uri": "https://localhost:8080/"
        },
        "id": "qBrSpgxELhdz",
        "outputId": "fa855bef-a9a8-44dc-ac4f-cdee78aa29af"
      },
      "outputs": [
        {
          "output_type": "stream",
          "name": "stdout",
          "text": [
            "+-------+-----------------+\n",
            "|summary|Vehicle Body Type|\n",
            "+-------+-----------------+\n",
            "|  count|          8989410|\n",
            "|   mean|5.256613226452906|\n",
            "| stddev|23.12769445663689|\n",
            "|    min|                -|\n",
            "|    max|              ZSR|\n",
            "+-------+-----------------+\n",
            "\n"
          ]
        }
      ],
      "source": [
        "# Description of Vehicle Body Type Column\n",
        "nyc.describe(\"Vehicle Body Type\").show()"
      ]
    },
    {
      "cell_type": "code",
      "execution_count": 20,
      "metadata": {
        "colab": {
          "base_uri": "https://localhost:8080/"
        },
        "id": "oMcgzWqcLhd0",
        "outputId": "f229b6b0-bdc9-45bb-82c4-35082cdb694a"
      },
      "outputs": [
        {
          "output_type": "stream",
          "name": "stdout",
          "text": [
            "+-------+------------------+\n",
            "|summary|      Vehicle Make|\n",
            "+-------+------------------+\n",
            "|  count|           9037103|\n",
            "|   mean| 4555.626865671642|\n",
            "| stddev|12905.597273858537|\n",
            "|    min|             (UPS)|\n",
            "|    max|                 `|\n",
            "+-------+------------------+\n",
            "\n"
          ]
        }
      ],
      "source": [
        "# Description of Vehicle Make Column\n",
        "nyc.describe(\"Vehicle Make\").show()"
      ]
    },
    {
      "cell_type": "code",
      "execution_count": 21,
      "metadata": {
        "colab": {
          "base_uri": "https://localhost:8080/"
        },
        "id": "EIxvUiqeLhd0",
        "outputId": "70beaf29-bab5-4f6e-bd33-3183d3922398"
      },
      "outputs": [
        {
          "output_type": "stream",
          "name": "stdout",
          "text": [
            "+-------+------------------+\n",
            "|summary|Violation Precinct|\n",
            "+-------+------------------+\n",
            "|  count|           9100278|\n",
            "|   mean| 50.57299985780654|\n",
            "| stddev|39.881921447679915|\n",
            "|    min|                 0|\n",
            "|    max|               994|\n",
            "+-------+------------------+\n",
            "\n"
          ]
        }
      ],
      "source": [
        "# Description of Violation Precinct Column\n",
        "nyc.describe(\"Violation Precinct\").show()"
      ]
    },
    {
      "cell_type": "code",
      "execution_count": 22,
      "metadata": {
        "colab": {
          "base_uri": "https://localhost:8080/"
        },
        "id": "1fjOTDDULhd1",
        "outputId": "5bee382f-ebb3-4fde-9e57-221bdd306874"
      },
      "outputs": [
        {
          "output_type": "stream",
          "name": "stdout",
          "text": [
            "+-------+-----------------+\n",
            "|summary|  Issuer Precinct|\n",
            "+-------+-----------------+\n",
            "|  count|          9100278|\n",
            "|   mean|56.58895640330988|\n",
            "| stddev| 66.6537514625166|\n",
            "|    min|                0|\n",
            "|    max|              997|\n",
            "+-------+-----------------+\n",
            "\n"
          ]
        }
      ],
      "source": [
        "# Description of Issuer Precinct Column\n",
        "nyc.describe(\"Issuer Precinct\").show()"
      ]
    },
    {
      "cell_type": "code",
      "execution_count": 23,
      "metadata": {
        "colab": {
          "base_uri": "https://localhost:8080/"
        },
        "id": "ZrUTgYlcLhd2",
        "outputId": "c95be62c-6334-45cd-971e-7e307d672efc"
      },
      "outputs": [
        {
          "output_type": "stream",
          "name": "stdout",
          "text": [
            "+-------+-----------------+\n",
            "|summary|   Violation Time|\n",
            "+-------+-----------------+\n",
            "|  count|          9098204|\n",
            "|   mean|766.5333333333333|\n",
            "| stddev|395.3869473000318|\n",
            "|    min|            +000A|\n",
            "|    max|            8741P|\n",
            "+-------+-----------------+\n",
            "\n"
          ]
        }
      ],
      "source": [
        "# Description of Violation Time Column\n",
        "nyc.describe(\"Violation Time\").show()"
      ]
    },
    {
      "cell_type": "code",
      "execution_count": 24,
      "metadata": {
        "id": "pIaDHdfALhd2"
      },
      "outputs": [],
      "source": [
        "nyc.createOrReplaceTempView(\"df_table\")"
      ]
    },
    {
      "cell_type": "code",
      "execution_count": 25,
      "metadata": {
        "colab": {
          "base_uri": "https://localhost:8080/"
        },
        "id": "qq0z-Em_Lhd3",
        "outputId": "ae70b2c6-689c-429b-ee4b-ff35fce4496d"
      },
      "outputs": [
        {
          "output_type": "stream",
          "name": "stdout",
          "text": [
            "root\n",
            " |-- Summons Number: long (nullable = true)\n",
            " |-- Plate ID: string (nullable = true)\n",
            " |-- Registration State: string (nullable = true)\n",
            " |-- Plate Type: string (nullable = true)\n",
            " |-- Issue Date: string (nullable = true)\n",
            " |-- Violation Code: integer (nullable = true)\n",
            " |-- Vehicle Body Type: string (nullable = true)\n",
            " |-- Vehicle Make: string (nullable = true)\n",
            " |-- Issuing Agency: string (nullable = true)\n",
            " |-- Street Code1: integer (nullable = true)\n",
            " |-- Street Code2: integer (nullable = true)\n",
            " |-- Street Code3: integer (nullable = true)\n",
            " |-- Vehicle Expiration Date: integer (nullable = true)\n",
            " |-- Violation Location: integer (nullable = true)\n",
            " |-- Violation Precinct: integer (nullable = true)\n",
            " |-- Issuer Precinct: integer (nullable = true)\n",
            " |-- Issuer Code: integer (nullable = true)\n",
            " |-- Issuer Command: string (nullable = true)\n",
            " |-- Issuer Squad: string (nullable = true)\n",
            " |-- Violation Time: string (nullable = true)\n",
            " |-- Time First Observed: string (nullable = true)\n",
            " |-- Violation County: string (nullable = true)\n",
            " |-- Violation In Front Of Or Opposite: string (nullable = true)\n",
            " |-- House Number: string (nullable = true)\n",
            " |-- Street Name: string (nullable = true)\n",
            " |-- Intersecting Street: string (nullable = true)\n",
            " |-- Date First Observed: string (nullable = true)\n",
            " |-- Law Section: string (nullable = true)\n",
            " |-- Sub Division: string (nullable = true)\n",
            " |-- Violation Legal Code: string (nullable = true)\n",
            " |-- Days Parking In Effect    : string (nullable = true)\n",
            " |-- From Hours In Effect: string (nullable = true)\n",
            " |-- To Hours In Effect: string (nullable = true)\n",
            " |-- Vehicle Color: string (nullable = true)\n",
            " |-- Unregistered Vehicle?: string (nullable = true)\n",
            " |-- Vehicle Year: string (nullable = true)\n",
            " |-- Meter Number: string (nullable = true)\n",
            " |-- Feet From Curb: string (nullable = true)\n",
            " |-- Violation Post Code: string (nullable = true)\n",
            " |-- Violation Description: string (nullable = true)\n",
            " |-- No Standing or Stopping Violation: string (nullable = true)\n",
            " |-- Hydrant Violation: string (nullable = true)\n",
            " |-- Double Parking Violation: string (nullable = true)\n",
            " |-- Latitude: string (nullable = true)\n",
            " |-- Longitude: string (nullable = true)\n",
            " |-- Community Board: string (nullable = true)\n",
            " |-- Community Council : string (nullable = true)\n",
            " |-- Census Tract: string (nullable = true)\n",
            " |-- BIN: string (nullable = true)\n",
            " |-- BBL: string (nullable = true)\n",
            " |-- NTA: string (nullable = true)\n",
            "\n"
          ]
        }
      ],
      "source": [
        "nyc.printSchema()"
      ]
    },
    {
      "cell_type": "code",
      "execution_count": 26,
      "metadata": {
        "colab": {
          "base_uri": "https://localhost:8080/"
        },
        "id": "qkadrhJQLhd4",
        "outputId": "f7d59d94-0d63-4e24-96c7-ab75c31ec02b"
      },
      "outputs": [
        {
          "output_type": "stream",
          "name": "stdout",
          "text": [
            "+--------+\n",
            "|count(1)|\n",
            "+--------+\n",
            "|  166204|\n",
            "+--------+\n",
            "\n"
          ]
        }
      ],
      "source": [
        "# Looking for null values\n",
        "null = spark.sql(\"select count(*) from df_table where `Summons Number` is null or `Plate ID` is null or `Registration State` is null or `Issue Date` is null or `Violation Code` is null or `Vehicle Body Type` is null or `Vehicle Make` is null or `Violation Precinct` is null or `Issuer Precinct` is null or `Violation Time` is null\")\n",
        "null.show()"
      ]
    },
    {
      "cell_type": "code",
      "execution_count": 35,
      "metadata": {
        "colab": {
          "base_uri": "https://localhost:8080/"
        },
        "id": "LqMAyMVbLhd5",
        "outputId": "ba808029-42fd-44ba-988b-837d5a87582d"
      },
      "outputs": [
        {
          "output_type": "execute_result",
          "data": {
            "text/plain": [
              "4379109"
            ]
          },
          "metadata": {},
          "execution_count": 35
        }
      ],
      "source": [
        "nyc = spark.sql(\"select * from df_table where year(TO_DATE(CAST(UNIX_TIMESTAMP(`Issue Date`,'MM/dd/yyyy') AS TIMESTAMP))) = 2013\")\n",
        "nyc.count()"
      ]
    },
    {
      "cell_type": "code",
      "execution_count": 28,
      "metadata": {
        "id": "LKeVX7WMLhd6"
      },
      "outputs": [],
      "source": [
        "# Importing Visualization Libraries\n",
        "import pandas as pd\n",
        "import matplotlib.pyplot as plt\n",
        "import seaborn as sns"
      ]
    },
    {
      "cell_type": "markdown",
      "metadata": {
        "id": "ior-seAtLhd6"
      },
      "source": [
        "### EDA"
      ]
    },
    {
      "cell_type": "code",
      "execution_count": 36,
      "metadata": {
        "colab": {
          "base_uri": "https://localhost:8080/"
        },
        "id": "WSheGntALhd7",
        "outputId": "d06fe413-6fa3-48d9-efe1-afadd249fec7"
      },
      "outputs": [
        {
          "output_type": "stream",
          "name": "stdout",
          "text": [
            "+--------------+--------+------------------+----------+--------------+-----------------+------------+------------------+---------------+--------------+\n",
            "|summons_number|plate_id|registration_state|issue_date|violation_code|vehicle_body_type|vehicle_make|violation_precinct|issuer_precinct|violation_time|\n",
            "+--------------+--------+------------------+----------+--------------+-----------------+------------+------------------+---------------+--------------+\n",
            "|    1350017498| GHM8497|                NY|07/23/2013|            71|              SDN|       HYUND|               113|              0|         0320P|\n",
            "|    1351593298| MXX7587|                PA|07/27/2013|            24|              SDN|       CHRYS|                77|              0|         0403P|\n",
            "|    1351593754| HWE8254|                PA|07/26/2013|            24|              SDN|       NISSA|                73|              0|         1204P|\n",
            "|    1338182160|  XX712Y|                NJ|07/31/2013|            46|             DELV|        HINO|                88|              0|         1258P|\n",
            "|    1345266182| EUH5351|                NY|08/03/2013|            21|             SUBN|       NISSA|                50|              0|         0805A|\n",
            "+--------------+--------+------------------+----------+--------------+-----------------+------------+------------------+---------------+--------------+\n",
            "only showing top 5 rows\n",
            "\n"
          ]
        }
      ],
      "source": [
        "nyc.createOrReplaceTempView(\"nyc_table\")\n",
        "df = spark.sql(\n",
        "    \"SELECT \\\n",
        "    `Summons Number` as `summons_number`, \\\n",
        "    `Plate ID` as `plate_id`, \\\n",
        "    `Registration State` as `registration_state`, \\\n",
        "    `Issue Date` as `issue_date`, \\\n",
        "    `Violation Code` as `violation_code`, \\\n",
        "    `Vehicle Body Type` as `vehicle_body_type`, \\\n",
        "    `Vehicle Make` as `vehicle_make`, \\\n",
        "    `Violation Precinct` as `violation_precinct`, \\\n",
        "    `Issuer Precinct` as `issuer_precinct`, \\\n",
        "    `Violation Time` as `violation_time` \\\n",
        "    FROM nyc_table\")\n",
        "df.show(5)"
      ]
    },
    {
      "cell_type": "code",
      "execution_count": 37,
      "metadata": {
        "id": "LrcuHqW-Lhd8"
      },
      "outputs": [],
      "source": [
        "df.createOrReplaceTempView(\"nyc_table\")"
      ]
    },
    {
      "cell_type": "code",
      "execution_count": 38,
      "metadata": {
        "colab": {
          "base_uri": "https://localhost:8080/"
        },
        "id": "_cq3z9MiLhd8",
        "outputId": "58303719-2b81-4080-ce02-f8f550bbb144"
      },
      "outputs": [
        {
          "output_type": "stream",
          "name": "stdout",
          "text": [
            "+----+-----+----------------+\n",
            "|year|month|Ticket_Frequency|\n",
            "+----+-----+----------------+\n",
            "|null| null|         4379109|\n",
            "+----+-----+----------------+\n",
            "\n"
          ]
        }
      ],
      "source": [
        "Distribution= spark.sql(\"SELECT year(issue_date) as year,month(issue_date) as month,count(*) as Ticket_Frequency FROM nyc_table GROUP BY year(issue_date),month(issue_date) order by Ticket_Frequency desc\")\n",
        "Distribution.show()"
      ]
    },
    {
      "cell_type": "code",
      "execution_count": 39,
      "metadata": {
        "colab": {
          "base_uri": "https://localhost:8080/",
          "height": 321
        },
        "id": "dRA9bfB8Lhd-",
        "outputId": "b438d344-f106-4328-d4ab-f5ef9ad0c671"
      },
      "outputs": [
        {
          "output_type": "display_data",
          "data": {
            "text/plain": [
              "<Figure size 432x288 with 0 Axes>"
            ]
          },
          "metadata": {}
        },
        {
          "output_type": "display_data",
          "data": {
            "text/plain": [
              "<Figure size 432x288 with 1 Axes>"
            ],
            "image/png": "[encoded data removed]"
          },
          "metadata": {
            "needs_background": "light"
          }
        }
      ],
      "source": [
        "Number_of_Violations = Distribution.toPandas()\n",
        "plt.clf()\n",
        "Number_of_Violations.plot(x= 'month', y='Ticket_Frequency', kind='bar')\n",
        "plt.title(\"Violations month wise\")\n",
        "plt.xlabel('month')\n",
        "plt.ylabel('Ticket_Frequency')\n",
        "plt.show()"
      ]
    },
    {
      "cell_type": "code",
      "execution_count": 40,
      "metadata": {
        "colab": {
          "base_uri": "https://localhost:8080/"
        },
        "id": "wYotO1W1Lhd_",
        "outputId": "09607cc2-ee7d-4a51-e72d-48d606d6057a"
      },
      "outputs": [
        {
          "output_type": "stream",
          "name": "stdout",
          "text": [
            "+----------+----------------+\n",
            "|  plate_id|Ticket_Frequency|\n",
            "+----------+----------------+\n",
            "|BLANKPLATE|            7566|\n",
            "|       N/A|            2127|\n",
            "|   49839JG|             597|\n",
            "|    AG293U|             529|\n",
            "|   62901JM|             521|\n",
            "|   62627JM|             502|\n",
            "|   47603MD|             455|\n",
            "|    AM471N|             438|\n",
            "|   62546JM|             434|\n",
            "|    AJ495X|             432|\n",
            "|   75225JW|             430|\n",
            "|   49781MA|             426|\n",
            "|   30412MD|             422|\n",
            "|   63485JM|             421|\n",
            "|   68092JZ|             420|\n",
            "|   16208TC|             411|\n",
            "|   17442JE|             406|\n",
            "|   17744MD|             398|\n",
            "|   42909JM|             395|\n",
            "|   95140JC|             392|\n",
            "+----------+----------------+\n",
            "only showing top 20 rows\n",
            "\n"
          ]
        }
      ],
      "source": [
        "Plate_Id=spark.sql(\"Select plate_id, count(*) as Ticket_Frequency from nyc_table group by plate_id having count(*)>=100 order by Ticket_Frequency desc\")\n",
        "Plate_Id.show()"
      ]
    },
    {
      "cell_type": "code",
      "execution_count": 41,
      "metadata": {
        "colab": {
          "base_uri": "https://localhost:8080/",
          "height": 367
        },
        "id": "0RQaRIN-LheB",
        "outputId": "ff82b1b3-2827-48ec-f38c-4395c48bc87f"
      },
      "outputs": [
        {
          "output_type": "display_data",
          "data": {
            "text/plain": [
              "<Figure size 432x288 with 0 Axes>"
            ]
          },
          "metadata": {}
        },
        {
          "output_type": "display_data",
          "data": {
            "text/plain": [
              "<Figure size 432x288 with 1 Axes>"
            ],
            "image/png": "[encoded data removed]"
          },
          "metadata": {
            "needs_background": "light"
          }
        }
      ],
      "source": [
        "Number_of_Violations_By_PlateID=Plate_Id.toPandas()\n",
        "plt.clf()\n",
        "Number_of_Violations_By_PlateID.plot(x= 'plate_id', y='Ticket_Frequency', kind='bar')\n",
        "plt.title(\"Number of Violations above 100 \")\n",
        "plt.xlabel('Plate_ID')\n",
        "plt.ylabel('Ticket_Frequency')\n",
        "plt.show()"
      ]
    },
    {
      "cell_type": "code",
      "execution_count": 42,
      "metadata": {
        "colab": {
          "base_uri": "https://localhost:8080/"
        },
        "id": "3yENzdpyLheB",
        "outputId": "453a41f5-9291-4dbf-ab1a-417f0e8e7ce4"
      },
      "outputs": [
        {
          "output_type": "execute_result",
          "data": {
            "text/plain": [
              "68"
            ]
          },
          "metadata": {},
          "execution_count": 42
        }
      ],
      "source": [
        "q2=spark.sql(\"SELECT registration_state, Count(*) as Ticket_Frequency from nyc_table group by registration_state order by Ticket_Frequency desc\")\n",
        "q2.count()"
      ]
    },
    {
      "cell_type": "code",
      "execution_count": 43,
      "metadata": {
        "colab": {
          "base_uri": "https://localhost:8080/",
          "height": 319
        },
        "id": "iYvesNKVLheC",
        "outputId": "bc312169-212a-4e48-b309-7f3c8c9b058d"
      },
      "outputs": [
        {
          "output_type": "display_data",
          "data": {
            "text/plain": [
              "<Figure size 7200x14400 with 0 Axes>"
            ]
          },
          "metadata": {}
        },
        {
          "output_type": "display_data",
          "data": {
            "text/plain": [
              "<Figure size 432x288 with 1 Axes>"
            ],
            "image/png": "[encoded data removed]"
          },
          "metadata": {
            "needs_background": "light"
          }
        }
      ],
      "source": [
        "q2_for_plot = q2.toPandas()\n",
        "plt.figure(figsize=(100,200))\n",
        "q2_for_plot.head(10).plot(x='registration_state', y='Ticket_Frequency', kind='bar')\n",
        "plt.title(\"Violations on the basis of Registration State\")\n",
        "plt.xlabel('Registration State')\n",
        "plt.ylabel('Ticket Frequency')\n",
        "plt.show()"
      ]
    },
    {
      "cell_type": "code",
      "execution_count": 44,
      "metadata": {
        "colab": {
          "base_uri": "https://localhost:8080/",
          "height": 1000
        },
        "id": "s14Gl8XKLheD",
        "outputId": "7e7e4960-5821-4d33-cbfa-9695e6bfcbd4"
      },
      "outputs": [
        {
          "output_type": "display_data",
          "data": {
            "text/plain": [
              "<Figure size 1152x2304 with 1 Axes>"
            ],
            "image/png": "[encoded data removed]"
          },
          "metadata": {
            "needs_background": "light"
          }
        }
      ],
      "source": [
        "tickets = spark.sql(\"SELECT `violation_code`, count(*) as `Tickets form State` FROM nyc_table GROUP BY `violation_code`\")\n",
        "plotdata = tickets.toPandas().set_index('violation_code').plot.barh(figsize=(16, 32))"
      ]
    },
    {
      "cell_type": "markdown",
      "metadata": {
        "id": "C3popQcQLheD"
      },
      "source": [
        "### Examine the data"
      ]
    },
    {
      "cell_type": "markdown",
      "metadata": {
        "id": "pKl4GHdeLheE"
      },
      "source": [
        "#### 1. Find the total number of tickets for the year."
      ]
    },
    {
      "cell_type": "code",
      "execution_count": 45,
      "metadata": {
        "colab": {
          "base_uri": "https://localhost:8080/"
        },
        "id": "hp2XxdV_LheE",
        "outputId": "bd0e72e3-504f-4c23-a23a-37d7f15ab745"
      },
      "outputs": [
        {
          "output_type": "stream",
          "name": "stdout",
          "text": [
            "+------------------------------------+\n",
            "|total number of tickets for the year|\n",
            "+------------------------------------+\n",
            "|                             4379109|\n",
            "+------------------------------------+\n",
            "\n"
          ]
        }
      ],
      "source": [
        "spark.sql(\"select count(*) as `total number of tickets for the year`\\\n",
        "          from nyc_table\").show()"
      ]
    },
    {
      "cell_type": "markdown",
      "metadata": {
        "id": "EoRsdePuLheF"
      },
      "source": [
        "#### 2. Find out the number of unique states from where the cars that got parking tickets came."
      ]
    },
    {
      "cell_type": "code",
      "execution_count": 46,
      "metadata": {
        "colab": {
          "base_uri": "https://localhost:8080/"
        },
        "id": "fYtT2SGELheF",
        "outputId": "707fb5c4-904e-4141-b935-47c7d80d1f59"
      },
      "outputs": [
        {
          "output_type": "stream",
          "name": "stdout",
          "text": [
            "+------------------+\n",
            "|Registration State|\n",
            "+------------------+\n",
            "|                68|\n",
            "+------------------+\n",
            "\n"
          ]
        }
      ],
      "source": [
        "spark.sql(\"select count(distinct `registration_state`) as `Registration State`\\\n",
        "          from nyc_table\").show()"
      ]
    },
    {
      "cell_type": "markdown",
      "metadata": {
        "id": "n4FXVSLMLheG"
      },
      "source": [
        "### Aggregation tasks"
      ]
    },
    {
      "cell_type": "markdown",
      "metadata": {
        "id": "FGhEjEaELheG"
      },
      "source": [
        "#### 1. How often does each violation code occur?"
      ]
    },
    {
      "cell_type": "code",
      "execution_count": 47,
      "metadata": {
        "colab": {
          "base_uri": "https://localhost:8080/"
        },
        "id": "x0qx8j9_LheG",
        "outputId": "04414d68-bf8d-488f-934f-2ea3f4ce9a6b"
      },
      "outputs": [
        {
          "output_type": "stream",
          "name": "stdout",
          "text": [
            "+--------------+----------------------------------------+\n",
            "|violation_code|Number of tickets for the violation code|\n",
            "+--------------+----------------------------------------+\n",
            "|            21|                                  640686|\n",
            "|            38|                                  577796|\n",
            "|            14|                                  409225|\n",
            "|            37|                                  354456|\n",
            "|             7|                                  263455|\n",
            "+--------------+----------------------------------------+\n",
            "\n"
          ]
        }
      ],
      "source": [
        "spark.sql(\"select `violation_code`, count(*) as `Number of tickets for the violation code`\\\n",
        "          from nyc_table\\\n",
        "          group by `violation_code`\\\n",
        "          order by `Number of tickets for the violation code` desc limit 5\").show()"
      ]
    },
    {
      "cell_type": "markdown",
      "metadata": {
        "id": "A1N-R-p8LheH"
      },
      "source": [
        "#### 2. How often does each 'vehicle body type' get a parking ticket? How about the 'vehicle make'?"
      ]
    },
    {
      "cell_type": "code",
      "execution_count": 48,
      "metadata": {
        "colab": {
          "base_uri": "https://localhost:8080/"
        },
        "id": "CUHYfjzyLheI",
        "outputId": "b18f23c4-c012-4114-df75-9c36032d2074"
      },
      "outputs": [
        {
          "output_type": "stream",
          "name": "stdout",
          "text": [
            "+-----------------+-------------------------------------------+\n",
            "|vehicle_body_type|Number of tickets for the vehicle body type|\n",
            "+-----------------+-------------------------------------------+\n",
            "|             SUBN|                                    1337137|\n",
            "|             4DSD|                                    1212518|\n",
            "|              VAN|                                     639710|\n",
            "|             DELV|                                     337916|\n",
            "|              SDN|                                     228046|\n",
            "+-----------------+-------------------------------------------+\n",
            "\n"
          ]
        }
      ],
      "source": [
        "spark.sql(\"select `vehicle_body_type`, count(*) as `Number of tickets for the vehicle body type`\\\n",
        "          from nyc_table\\\n",
        "          group by `vehicle_body_type`\\\n",
        "          order by `Number of tickets for the vehicle body type` desc\\\n",
        "          limit 5\").show()"
      ]
    },
    {
      "cell_type": "code",
      "execution_count": 49,
      "metadata": {
        "colab": {
          "base_uri": "https://localhost:8080/"
        },
        "id": "lbQOUo9dLheI",
        "outputId": "fd9e30bc-a489-4ce4-fc9d-d58b9dd32d89"
      },
      "outputs": [
        {
          "output_type": "stream",
          "name": "stdout",
          "text": [
            "+------------+--------------------------------------+\n",
            "|vehicle_make|Number of tickets for the vehicle make|\n",
            "+------------+--------------------------------------+\n",
            "|        FORD|                                598823|\n",
            "|       TOYOT|                                427072|\n",
            "|       HONDA|                                391529|\n",
            "|       CHEVR|                                356989|\n",
            "|       NISSA|                                313727|\n",
            "+------------+--------------------------------------+\n",
            "\n"
          ]
        }
      ],
      "source": [
        "spark.sql(\"select `vehicle_make`, count(*) as `Number of tickets for the vehicle make`\\\n",
        "          from nyc_table\\\n",
        "          group by `vehicle_make`\\\n",
        "          order by `Number of tickets for the vehicle make` desc\\\n",
        "          limit 5\").show()"
      ]
    },
    {
      "cell_type": "markdown",
      "metadata": {
        "id": "6pY7XjVZLheJ"
      },
      "source": [
        "#### 3. A precinct is a police station that has a certain zone of the city under its command. Find the (5 highest) frequencies of tickets for each of the following:"
      ]
    },
    {
      "cell_type": "markdown",
      "metadata": {
        "id": "_YHAc8TULheJ"
      },
      "source": [
        "- 'Violation Precinct' (This is the precinct of the zone where the violation occurred). Using this, can you draw any insights for parking violations in any specific areas of the city? "
      ]
    },
    {
      "cell_type": "code",
      "execution_count": 50,
      "metadata": {
        "colab": {
          "base_uri": "https://localhost:8080/"
        },
        "id": "TwIxIo6yLheK",
        "outputId": "95616ea0-ca93-485c-cd7d-91190e33cbba"
      },
      "outputs": [
        {
          "output_type": "stream",
          "name": "stdout",
          "text": [
            "+------------------+--------------------------------------------+\n",
            "|violation_precinct|Number of tickets for the violation precinct|\n",
            "+------------------+--------------------------------------------+\n",
            "|                 0|                                      355335|\n",
            "|                19|                                      237848|\n",
            "|                18|                                      222726|\n",
            "|                14|                                      170418|\n",
            "|                 1|                                      127120|\n",
            "|                17|                                      126616|\n",
            "+------------------+--------------------------------------------+\n",
            "\n"
          ]
        }
      ],
      "source": [
        "# Taking 6 since the first one is not valid\n",
        "spark.sql(\"select `violation_precinct`, count(*) as `Number of tickets for the violation precinct`\\\n",
        "          from nyc_table\\\n",
        "          group by `violation_precinct`\\\n",
        "          order by `Number of tickets for the violation precinct` desc\\\n",
        "          limit 6\").show()"
      ]
    },
    {
      "cell_type": "markdown",
      "metadata": {
        "id": "dN4O4yfXLheK"
      },
      "source": [
        "- 'Issuer Precinct' (This is the precinct that issued the ticket.)"
      ]
    },
    {
      "cell_type": "code",
      "execution_count": 51,
      "metadata": {
        "colab": {
          "base_uri": "https://localhost:8080/"
        },
        "id": "WgRx6EvKLheL",
        "outputId": "f81cee6a-b442-4143-9019-eb11c3e829d7"
      },
      "outputs": [
        {
          "output_type": "stream",
          "name": "stdout",
          "text": [
            "+---------------+-----------------------------------------+\n",
            "|issuer_precinct|Number of tickets for the issuer precinct|\n",
            "+---------------+-----------------------------------------+\n",
            "|              0|                                   423454|\n",
            "|             19|                                   226949|\n",
            "|             18|                                   213790|\n",
            "|             14|                                   160934|\n",
            "|              1|                                   122577|\n",
            "|             17|                                   120751|\n",
            "+---------------+-----------------------------------------+\n",
            "\n"
          ]
        }
      ],
      "source": [
        "# Taking 6 since the first one is not valid\n",
        "spark.sql(\"select `issuer_precinct`, count(*) as `Number of tickets for the issuer precinct`\\\n",
        "          from nyc_table\\\n",
        "          group by `issuer_precinct`\\\n",
        "          order by `Number of tickets for the issuer precinct` desc\\\n",
        "          limit 6\").show()"
      ]
    },
    {
      "cell_type": "markdown",
      "metadata": {
        "id": "bgOiywH1LheL"
      },
      "source": [
        "Precinct 19, 14, 1, 18 and 114 are common in both above query.\n",
        "There are many violations in precinct 19."
      ]
    },
    {
      "cell_type": "markdown",
      "metadata": {
        "id": "Pgz-6EuTLheM"
      },
      "source": [
        "#### 4. Find the violation code frequencies for three precincts that have issued the most number of tickets. Do these precinct zones have an exceptionally high frequency of certain violation codes? Are these codes common across precincts? "
      ]
    },
    {
      "cell_type": "code",
      "execution_count": 52,
      "metadata": {
        "colab": {
          "base_uri": "https://localhost:8080/"
        },
        "id": "nFtXGB8jLheM",
        "outputId": "eac78ee3-c0b3-47dd-ac81-207120bd88da"
      },
      "outputs": [
        {
          "output_type": "stream",
          "name": "stdout",
          "text": [
            "+--------------+--------------------+\n",
            "|violation_code|Issuer precinct = 19|\n",
            "+--------------+--------------------+\n",
            "|            38|               38984|\n",
            "|            37|               37348|\n",
            "|            21|               25894|\n",
            "|            14|               25880|\n",
            "|            16|               21219|\n",
            "|            20|               14418|\n",
            "|            40|               13510|\n",
            "|            46|                9007|\n",
            "|            19|                6583|\n",
            "|            71|                6571|\n",
            "+--------------+--------------------+\n",
            "\n"
          ]
        }
      ],
      "source": [
        "spark.sql(\"select `violation_code`, count(*) as `Issuer precinct = 19`\\\n",
        "          from nyc_table\\\n",
        "          where `issuer_precinct` = 19\\\n",
        "          group by `violation_code`\\\n",
        "          order by `Issuer precinct = 19` desc\\\n",
        "          LIMIT 10\").show()"
      ]
    },
    {
      "cell_type": "code",
      "execution_count": 53,
      "metadata": {
        "colab": {
          "base_uri": "https://localhost:8080/"
        },
        "id": "pDB9H3sSLheN",
        "outputId": "2b17e622-f728-4161-ea7b-e08549164cbd"
      },
      "outputs": [
        {
          "output_type": "stream",
          "name": "stdout",
          "text": [
            "+--------------+--------------------+\n",
            "|violation_code|Issuer precinct = 14|\n",
            "+--------------+--------------------+\n",
            "|            69|               37755|\n",
            "|            14|               32089|\n",
            "|            31|               22089|\n",
            "|            42|               13244|\n",
            "|            47|               10660|\n",
            "|            17|                3927|\n",
            "|            46|                3712|\n",
            "|            19|                3165|\n",
            "|            38|                3156|\n",
            "|            84|                2996|\n",
            "+--------------+--------------------+\n",
            "\n"
          ]
        }
      ],
      "source": [
        "spark.sql(\"select `violation_code`, count(*) as `Issuer precinct = 14`\\\n",
        "          from nyc_table\\\n",
        "          where `issuer_precinct` = 14\\\n",
        "          group by `violation_code`\\\n",
        "          order by `Issuer precinct = 14` desc\\\n",
        "          LIMIT 10\").show()"
      ]
    },
    {
      "cell_type": "code",
      "execution_count": 54,
      "metadata": {
        "colab": {
          "base_uri": "https://localhost:8080/"
        },
        "id": "1r_fid2JLheN",
        "outputId": "5ce7c359-3004-4cd9-c726-336590947167"
      },
      "outputs": [
        {
          "output_type": "stream",
          "name": "stdout",
          "text": [
            "+--------------+-------------------+\n",
            "|violation_code|Issuer precinct = 1|\n",
            "+--------------+-------------------+\n",
            "|            14|              31745|\n",
            "|            16|              20943|\n",
            "|            20|              11193|\n",
            "|            38|               7577|\n",
            "|            17|               6684|\n",
            "|            69|               5320|\n",
            "|            37|               5240|\n",
            "|            46|               4192|\n",
            "|            21|               3897|\n",
            "|            19|               3713|\n",
            "+--------------+-------------------+\n",
            "\n"
          ]
        }
      ],
      "source": [
        "spark.sql(\"select `violation_code`, count(*) as `Issuer precinct = 1`\\\n",
        "          from nyc_table\\\n",
        "          where `issuer_precinct` = 1\\\n",
        "          group by `violation_code`\\\n",
        "          order by `Issuer precinct = 1` desc\\\n",
        "          LIMIT 10\").show()"
      ]
    },
    {
      "cell_type": "markdown",
      "metadata": {
        "id": "mJ7wame8LheO"
      },
      "source": [
        "There are violation codes having higher overall higher frequency"
      ]
    },
    {
      "cell_type": "markdown",
      "metadata": {
        "id": "tTezr8g6LheO"
      },
      "source": [
        "#### 5. Find out the properties of parking violations across different times of the day:"
      ]
    },
    {
      "cell_type": "markdown",
      "metadata": {
        "id": "TkRd7XTALheP"
      },
      "source": [
        "- Find a way to deal with missing values, if any."
      ]
    },
    {
      "cell_type": "code",
      "execution_count": 55,
      "metadata": {
        "colab": {
          "base_uri": "https://localhost:8080/"
        },
        "id": "UF8t5pbhLheP",
        "outputId": "42866256-d170-4938-8c72-bf606f4c52c8"
      },
      "outputs": [
        {
          "output_type": "stream",
          "name": "stdout",
          "text": [
            "+-----------------+\n",
            "|Total null values|\n",
            "+-----------------+\n",
            "|           166204|\n",
            "+-----------------+\n",
            "\n"
          ]
        }
      ],
      "source": [
        "null = spark.sql(\"select count(*) as `Total null values` from df_table where `Summons Number` is null or `Plate ID` is null or `Registration State` is null or `Issue Date` is null or `Violation Code` is null or `Vehicle Body Type` is null or `Vehicle Make` is null or `Violation Precinct` is null or `Issuer Precinct` is null or `Violation Time` is null\")\n",
        "null.show()"
      ]
    },
    {
      "cell_type": "markdown",
      "metadata": {
        "id": "7wFNzE9RLheQ"
      },
      "source": [
        "There are no null values"
      ]
    },
    {
      "cell_type": "markdown",
      "metadata": {
        "id": "qotdDlCOLheQ"
      },
      "source": [
        "- The Violation Time field is specified in a strange format. Find a way to make this a time attribute that you can use to divide into groups."
      ]
    },
    {
      "cell_type": "code",
      "execution_count": 56,
      "metadata": {
        "id": "XK35bzFeLheR"
      },
      "outputs": [],
      "source": [
        "from pyspark.sql.functions import col, regexp_replace, udf, date_format"
      ]
    },
    {
      "cell_type": "code",
      "execution_count": 57,
      "metadata": {
        "colab": {
          "base_uri": "https://localhost:8080/"
        },
        "id": "dC5rlpgCLheS",
        "outputId": "2d921d0a-c58a-4f73-ddaf-35f1d51f0ddd"
      },
      "outputs": [
        {
          "output_type": "stream",
          "name": "stdout",
          "text": [
            "+--------------+--------+\n",
            "|violation_time|criteria|\n",
            "+--------------+--------+\n",
            "|         09+4A|   false|\n",
            "|         4400P|   false|\n",
            "|         7756P|   false|\n",
            "|         2805P|   false|\n",
            "|         8445P|   false|\n",
            "|         2906P|   false|\n",
            "|         092/A|   false|\n",
            "|         5315P|   false|\n",
            "|         5402P|   false|\n",
            "|         5913P|   false|\n",
            "|         8400P|   false|\n",
            "|         2957P|   false|\n",
            "|         .633P|   false|\n",
            "|         2045P|   false|\n",
            "|         8545P|   false|\n",
            "|         3244P|   false|\n",
            "|         3002P|   false|\n",
            "|         2825P|   false|\n",
            "|         2838P|   false|\n",
            "|         4715P|   false|\n",
            "+--------------+--------+\n",
            "only showing top 20 rows\n",
            "\n"
          ]
        },
        {
          "output_type": "execute_result",
          "data": {
            "text/plain": [
              "130"
            ]
          },
          "metadata": {},
          "execution_count": 57
        }
      ],
      "source": [
        "df.select(\"violation_time\", col(\"violation_time\").rlike(\"^[01][0-9]{3}[AP]$\").alias(\"criteria\")).where(col(\"criteria\")==\"false\").show()\n",
        "df.select(\"violation_time\", col(\"violation_time\").rlike(\"^[01][0-9]{3}[AP]$\").alias(\"criteria\")).where(col(\"criteria\")==\"false\").count()"
      ]
    },
    {
      "cell_type": "code",
      "execution_count": 58,
      "metadata": {
        "id": "6cLZLK8hLheT"
      },
      "outputs": [],
      "source": [
        "new_df = df.withColumn('violation_time', regexp_replace('violation_time', '^.*[^0-9AP].*$', '0000A'))\n",
        "new_df = new_df.withColumn('violation_time', regexp_replace('violation_time', '^.*[^AP]$', '0000A'))\n",
        "new_df = new_df.withColumn('violation_time', regexp_replace('violation_time', '^[^01].*$', '0000A'))\n",
        "new_df = new_df.withColumn('violation_time', regexp_replace('violation_time', '^[0-9AP]{1,4}$', '0000A'))"
      ]
    },
    {
      "cell_type": "code",
      "execution_count": 61,
      "metadata": {
        "colab": {
          "base_uri": "https://localhost:8080/"
        },
        "id": "WqSxHAB9LheT",
        "outputId": "14fd0646-fc75-4e97-978f-9fc3754ace3a"
      },
      "outputs": [
        {
          "output_type": "stream",
          "name": "stdout",
          "text": [
            "+--------------+--------+\n",
            "|violation_time|criteria|\n",
            "+--------------+--------+\n",
            "|         0805A|   false|\n",
            "|         0946A|   false|\n",
            "|         0947A|   false|\n",
            "|         1010A|   false|\n",
            "|         1158A|   false|\n",
            "|         0819A|   false|\n",
            "|         0820A|   false|\n",
            "|         0925A|   false|\n",
            "|         1139A|   false|\n",
            "|         0840A|   false|\n",
            "|         0845A|   false|\n",
            "|         1146A|   false|\n",
            "|         0747A|   false|\n",
            "|         0830A|   false|\n",
            "|         0840A|   false|\n",
            "|         0854A|   false|\n",
            "|         0915A|   false|\n",
            "|         1108A|   false|\n",
            "|         1120A|   false|\n",
            "|         1148A|   false|\n",
            "+--------------+--------+\n",
            "only showing top 20 rows\n",
            "\n",
            "Initially 0000A count:  614\n",
            "Finally 0000A count:  744\n"
          ]
        }
      ],
      "source": [
        "new_df.select(\"violation_time\", col(\"violation_time\").rlike(\"^[01][0-9]{3}[P]$\").alias(\"criteria\")).where(col(\"criteria\")==\"false\").show()\n",
        "print(\"Initially 0000A count: \",df.select(\"violation_time\").where(col(\"violation_time\")==\"0000A\").count())\n",
        "print(\"Finally 0000A count: \", new_df.select(\"violation_time\").where(col(\"violation_time\")==\"0000A\").count())"
      ]
    },
    {
      "cell_type": "code",
      "execution_count": 64,
      "metadata": {
        "colab": {
          "base_uri": "https://localhost:8080/"
        },
        "id": "T6F1B4wWLheU",
        "outputId": "8001d48b-4cd5-4542-fc60-c5d317aa1de1"
      },
      "outputs": [
        {
          "output_type": "stream",
          "name": "stdout",
          "text": [
            "root\n",
            " |-- summons_number: long (nullable = true)\n",
            " |-- plate_id: string (nullable = true)\n",
            " |-- registration_state: string (nullable = true)\n",
            " |-- issue_date: string (nullable = true)\n",
            " |-- violation_code: integer (nullable = true)\n",
            " |-- vehicle_body_type: string (nullable = true)\n",
            " |-- vehicle_make: string (nullable = true)\n",
            " |-- violation_precinct: integer (nullable = true)\n",
            " |-- issuer_precinct: integer (nullable = true)\n",
            " |-- violation_time: string (nullable = true)\n",
            " |-- violation_time_new: string (nullable = true)\n",
            " |-- violation_time_new_formatted: string (nullable = true)\n",
            "\n"
          ]
        }
      ],
      "source": [
        "maketime_udf_str_1 = udf(lambda x: x[0:2]+':'+x[2:4]+':00' if x[-1]==\"A\" or int(x[0:2]) in range(13,25) else str(int(x[0:2])+12)+':'+x[2:4]+':00')\n",
        "\n",
        "maketime_udf_str_2 = udf(lambda x: '00'+x[2:] if x[0:2]==\"24\" else x)\n",
        "new_df = new_df.withColumn('violation_time_new', maketime_udf_str_1('violation_time'))\n",
        "new_df = new_df.withColumn('violation_time_new', maketime_udf_str_2('violation_time_new'))\n",
        "new_df = new_df.withColumn('violation_time_new_formatted', date_format('violation_time_new', 'H:m:s'))\n",
        "\n",
        "new_df.printSchema()"
      ]
    },
    {
      "cell_type": "code",
      "execution_count": 65,
      "metadata": {
        "id": "VrYOyKQbLheU"
      },
      "outputs": [],
      "source": [
        "new_df.createOrReplaceTempView(\"bins_table\")"
      ]
    },
    {
      "cell_type": "code",
      "execution_count": 66,
      "metadata": {
        "colab": {
          "base_uri": "https://localhost:8080/",
          "height": 397
        },
        "id": "v4rZVYW2LheV",
        "outputId": "c216e590-143f-4e64-ce44-5551cd99d499"
      },
      "outputs": [
        {
          "output_type": "error",
          "ename": "PythonException",
          "evalue": "ignored",
          "traceback": [
            "\u001b[0;31m---------------------------------------------------------------------------\u001b[0m",
            "\u001b[0;31mPythonException\u001b[0m                           Traceback (most recent call last)",
            "\u001b[0;32m<ipython-input-66-6f683a8585f3>\u001b[0m in \u001b[0;36m<module>\u001b[0;34m\u001b[0m\n\u001b[0;32m----> 1\u001b[0;31m \u001b[0mspark\u001b[0m\u001b[0;34m.\u001b[0m\u001b[0msql\u001b[0m\u001b[0;34m(\u001b[0m\u001b[0;34m\"select violation_code, violation_time_new_formatted, count(*) count from bins_table group by violation_code, violation_time_new_formatted\"\u001b[0m\u001b[0;34m)\u001b[0m\u001b[0;34m.\u001b[0m\u001b[0mshow\u001b[0m\u001b[0;34m(\u001b[0m\u001b[0;34m)\u001b[0m\u001b[0;34m\u001b[0m\u001b[0;34m\u001b[0m\u001b[0m\n\u001b[0m",
            "\u001b[0;32m/usr/local/lib/python3.7/dist-packages/pyspark/sql/dataframe.py\u001b[0m in \u001b[0;36mshow\u001b[0;34m(self, n, truncate, vertical)\u001b[0m\n\u001b[1;32m    604\u001b[0m \u001b[0;34m\u001b[0m\u001b[0m\n\u001b[1;32m    605\u001b[0m         \u001b[0;32mif\u001b[0m \u001b[0misinstance\u001b[0m\u001b[0;34m(\u001b[0m\u001b[0mtruncate\u001b[0m\u001b[0;34m,\u001b[0m \u001b[0mbool\u001b[0m\u001b[0;34m)\u001b[0m \u001b[0;32mand\u001b[0m \u001b[0mtruncate\u001b[0m\u001b[0;34m:\u001b[0m\u001b[0;34m\u001b[0m\u001b[0;34m\u001b[0m\u001b[0m\n\u001b[0;32m--> 606\u001b[0;31m             \u001b[0mprint\u001b[0m\u001b[0;34m(\u001b[0m\u001b[0mself\u001b[0m\u001b[0;34m.\u001b[0m\u001b[0m_jdf\u001b[0m\u001b[0;34m.\u001b[0m\u001b[0mshowString\u001b[0m\u001b[0;34m(\u001b[0m\u001b[0mn\u001b[0m\u001b[0;34m,\u001b[0m \u001b[0;36m20\u001b[0m\u001b[0;34m,\u001b[0m \u001b[0mvertical\u001b[0m\u001b[0;34m)\u001b[0m\u001b[0;34m)\u001b[0m\u001b[0;34m\u001b[0m\u001b[0;34m\u001b[0m\u001b[0m\n\u001b[0m\u001b[1;32m    607\u001b[0m         \u001b[0;32melse\u001b[0m\u001b[0;34m:\u001b[0m\u001b[0;34m\u001b[0m\u001b[0;34m\u001b[0m\u001b[0m\n\u001b[1;32m    608\u001b[0m             \u001b[0;32mtry\u001b[0m\u001b[0;34m:\u001b[0m\u001b[0;34m\u001b[0m\u001b[0;34m\u001b[0m\u001b[0m\n",
            "\u001b[0;32m/usr/local/lib/python3.7/dist-packages/py4j/java_gateway.py\u001b[0m in \u001b[0;36m__call__\u001b[0;34m(self, *args)\u001b[0m\n\u001b[1;32m   1320\u001b[0m         \u001b[0manswer\u001b[0m \u001b[0;34m=\u001b[0m \u001b[0mself\u001b[0m\u001b[0;34m.\u001b[0m\u001b[0mgateway_client\u001b[0m\u001b[0;34m.\u001b[0m\u001b[0msend_command\u001b[0m\u001b[0;34m(\u001b[0m\u001b[0mcommand\u001b[0m\u001b[0;34m)\u001b[0m\u001b[0;34m\u001b[0m\u001b[0;34m\u001b[0m\u001b[0m\n\u001b[1;32m   1321\u001b[0m         return_value = get_return_value(\n\u001b[0;32m-> 1322\u001b[0;31m             answer, self.gateway_client, self.target_id, self.name)\n\u001b[0m\u001b[1;32m   1323\u001b[0m \u001b[0;34m\u001b[0m\u001b[0m\n\u001b[1;32m   1324\u001b[0m         \u001b[0;32mfor\u001b[0m \u001b[0mtemp_arg\u001b[0m \u001b[0;32min\u001b[0m \u001b[0mtemp_args\u001b[0m\u001b[0;34m:\u001b[0m\u001b[0;34m\u001b[0m\u001b[0;34m\u001b[0m\u001b[0m\n",
            "\u001b[0;32m/usr/local/lib/python3.7/dist-packages/pyspark/sql/utils.py\u001b[0m in \u001b[0;36mdeco\u001b[0;34m(*a, **kw)\u001b[0m\n\u001b[1;32m    194\u001b[0m                 \u001b[0;31m# Hide where the exception came from that shows a non-Pythonic\u001b[0m\u001b[0;34m\u001b[0m\u001b[0;34m\u001b[0m\u001b[0;34m\u001b[0m\u001b[0m\n\u001b[1;32m    195\u001b[0m                 \u001b[0;31m# JVM exception message.\u001b[0m\u001b[0;34m\u001b[0m\u001b[0;34m\u001b[0m\u001b[0;34m\u001b[0m\u001b[0m\n\u001b[0;32m--> 196\u001b[0;31m                 \u001b[0;32mraise\u001b[0m \u001b[0mconverted\u001b[0m \u001b[0;32mfrom\u001b[0m \u001b[0;32mNone\u001b[0m\u001b[0;34m\u001b[0m\u001b[0;34m\u001b[0m\u001b[0m\n\u001b[0m\u001b[1;32m    197\u001b[0m             \u001b[0;32melse\u001b[0m\u001b[0;34m:\u001b[0m\u001b[0;34m\u001b[0m\u001b[0;34m\u001b[0m\u001b[0m\n\u001b[1;32m    198\u001b[0m                 \u001b[0;32mraise\u001b[0m\u001b[0;34m\u001b[0m\u001b[0;34m\u001b[0m\u001b[0m\n",
            "\u001b[0;31mPythonException\u001b[0m: \n  An exception was thrown from the Python worker. Please see the stack trace below.\nTraceback (most recent call last):\n  File \"<ipython-input-64-ee5bd387a7d7>\", line 1, in <lambda>\nTypeError: 'NoneType' object is not subscriptable\n"
          ]
        }
      ],
      "source": [
        "spark.sql(\"select violation_code, violation_time_new_formatted, count(*) count from bins_table group by violation_code, violation_time_new_formatted\").show()"
      ]
    },
    {
      "cell_type": "code",
      "execution_count": null,
      "metadata": {
        "id": "bTvlNXYtLheV"
      },
      "outputs": [],
      "source": [
        "result = spark.sql(\n",
        "    'SELECT `violation_code`, count(*) as `number of tickets for the time bin for violation code`, \\\n",
        "    CASE \\\n",
        "    WHEN HOUR(`violation_time_new_formatted`) IN (\"0\",\"1\",\"2\",\"3\") THEN \"1\" \\\n",
        "    WHEN HOUR(`violation_time_new_formatted`) IN (\"4\",\"5\",\"6\",\"7\") THEN \"2\" \\\n",
        "    WHEN HOUR(`violation_time_new_formatted`) IN (\"8\",\"9\",\"10\",\"11\") THEN \"3\" \\\n",
        "    WHEN HOUR(`violation_time_new_formatted`) IN (\"12\",\"13\",\"14\",\"15\") THEN \"4\" \\\n",
        "    WHEN HOUR(`violation_time_new_formatted`) IN (\"16\",\"17\",\"18\",\"19\") THEN \"5\" \\\n",
        "    WHEN HOUR(`violation_time_new_formatted`) IN (\"20\",\"21\",\"22\",\"23\") THEN \"6\" \\\n",
        "    END AS `violation_time_bin` \\\n",
        "    FROM bins_table \\\n",
        "    GROUP BY `violation_time_bin`,`violation_code`')\n",
        "result.show()"
      ]
    },
    {
      "cell_type": "code",
      "execution_count": null,
      "metadata": {
        "id": "2oiKs_f5LheW"
      },
      "outputs": [],
      "source": [
        "result.createOrReplaceTempView(\"bins_table\")"
      ]
    },
    {
      "cell_type": "code",
      "execution_count": null,
      "metadata": {
        "id": "Z_sYPeOTLheW"
      },
      "outputs": [],
      "source": [
        "bin_1 = spark.sql(\"select violation_code from bins_table where violation_time_bin == 1 group by violation_code order by count(*) desc\")\n",
        "bin_1.show(3)"
      ]
    },
    {
      "cell_type": "code",
      "execution_count": null,
      "metadata": {
        "id": "WUbeMzYSLheX"
      },
      "outputs": [],
      "source": [
        "bin_2 = spark.sql(\"select violation_code from bins_table where violation_time_bin == 2 group by violation_code order by count(*) desc\")\n",
        "bin_2.show(3)"
      ]
    },
    {
      "cell_type": "code",
      "execution_count": null,
      "metadata": {
        "id": "Xps52chtLheX"
      },
      "outputs": [],
      "source": [
        "bin_3 = spark.sql(\"select violation_code from bins_table where violation_time_bin == 3 group by violation_code order by count(*) desc\")\n",
        "bin_3.show(3)"
      ]
    },
    {
      "cell_type": "code",
      "execution_count": null,
      "metadata": {
        "id": "4c2cyqCBLheY"
      },
      "outputs": [],
      "source": [
        "bin_4 = spark.sql(\"select violation_code from bins_table where violation_time_bin == 4 group by violation_code order by count(*) desc\")\n",
        "bin_4.show(3)"
      ]
    },
    {
      "cell_type": "code",
      "execution_count": null,
      "metadata": {
        "id": "a2FpOnklLheY"
      },
      "outputs": [],
      "source": [
        "bin_5 = spark.sql(\"select violation_code from bins_table where violation_time_bin == 5 group by violation_code order by count(*) desc\")\n",
        "bin_5.show(3)"
      ]
    },
    {
      "cell_type": "code",
      "execution_count": null,
      "metadata": {
        "id": "iNasb9ErLheZ"
      },
      "outputs": [],
      "source": [
        "bin_6 = spark.sql(\"select violation_code from bins_table where violation_time_bin == 6 group by violation_code order by count(*) desc\")\n",
        "bin_6.show(3)"
      ]
    },
    {
      "cell_type": "markdown",
      "metadata": {
        "id": "y5yXUq40LheZ"
      },
      "source": [
        "- For the three most commonly occurring violation codes, find the most common time of the day "
      ]
    },
    {
      "cell_type": "code",
      "execution_count": null,
      "metadata": {
        "id": "zqTkSQV1Lhea"
      },
      "outputs": [],
      "source": [
        "spark.sql(\"select violation_time_bin from bins_table group by violation_time_bin order by count(*) desc\").show(3)"
      ]
    },
    {
      "cell_type": "markdown",
      "metadata": {
        "id": "Y426c-VILhea"
      },
      "source": [
        "#### 6. Find some seasonality in this data:"
      ]
    },
    {
      "cell_type": "markdown",
      "metadata": {
        "id": "C4c-t-2FLhea"
      },
      "source": [
        "- First, divide the year into a certain number of seasons, and find the frequencies of tickets for each season."
      ]
    },
    {
      "cell_type": "code",
      "execution_count": null,
      "metadata": {
        "id": "Aj_pN7-3Lheb"
      },
      "outputs": [],
      "source": [
        "        # spring    March, April, May\n",
        "         #summer    June, July, August\n",
        "         #autumn    September, October, November\n",
        "         #winter    December, January, February"
      ]
    },
    {
      "cell_type": "code",
      "execution_count": null,
      "metadata": {
        "id": "D_CAHtTYLheb"
      },
      "outputs": [],
      "source": [
        "seasonality = spark.sql(\"select Violation_Code , Issuer_Precinct, case when MONTH(TO_DATE(Issue_Date, 'MM/dd/yyyy')) between 03 and 05 then 'spring' when MONTH(TO_DATE(Issue_Date, 'MM/dd/yyyy')) between 06 and 08 then 'summer' when MONTH(TO_DATE(Issue_Date, 'MM/dd/yyyy')) between 09 and 11 then 'autumn' when MONTH(TO_DATE(Issue_Date, 'MM/dd/yyyy')) in (1,2,12) then 'winter' else 'unknown' end  as season from nyc_table\")\n",
        "seasonality.show()"
      ]
    },
    {
      "cell_type": "code",
      "execution_count": null,
      "metadata": {
        "id": "FCU0QoHeLhec"
      },
      "outputs": [],
      "source": [
        "seasonality.createOrReplaceTempView(\"seasonality_table\")"
      ]
    },
    {
      "cell_type": "code",
      "execution_count": null,
      "metadata": {
        "id": "Berlf3PdLhec"
      },
      "outputs": [],
      "source": [
        "seasonality_frequency = spark.sql(\"select season, count(*) as no_of_tickets from seasonality_table group by season order by no_of_tickets desc\")\n",
        "seasonality_frequency.show()"
      ]
    },
    {
      "cell_type": "markdown",
      "metadata": {
        "id": "KfdV5OZ6Lhed"
      },
      "source": [
        "- Find the three most common violations for each of these seasons."
      ]
    },
    {
      "cell_type": "code",
      "execution_count": null,
      "metadata": {
        "id": "_h15cnnyLhed"
      },
      "outputs": [],
      "source": [
        "# Spring season\n",
        "spring = spark.sql(\"select Violation_Code, count(*) as Frequency from seasonality_table where season = 'spring' group by Violation_Code order by Frequency desc\" )\n",
        "spring.show(3)"
      ]
    },
    {
      "cell_type": "code",
      "execution_count": null,
      "metadata": {
        "id": "MsK7ZOMeLhee"
      },
      "outputs": [],
      "source": [
        "# Winter season\n",
        "winter = spark.sql(\"select Violation_Code, count(*) as Frequency from seasonality_table where season = 'winter' group by Violation_Code order by Frequency desc\" )\n",
        "winter.show(3)"
      ]
    },
    {
      "cell_type": "code",
      "execution_count": null,
      "metadata": {
        "id": "pBSi1czlLhef"
      },
      "outputs": [],
      "source": [
        "#  Summer season\n",
        "summer = spark.sql(\"select Violation_Code, count(*) as Frequency from seasonality_table where season = 'summer' group by Violation_Code order by Frequency desc\" )\n",
        "summer.show(3)"
      ]
    },
    {
      "cell_type": "code",
      "execution_count": null,
      "metadata": {
        "id": "-QS3Y0cFLhef"
      },
      "outputs": [],
      "source": [
        "#  Autumn season\n",
        "autumn = spark.sql(\"select Violation_Code, count(*) as Frequency from seasonality_table where season = 'autumn' group by Violation_Code order by Frequency desc\" )\n",
        "autumn.show(3)"
      ]
    },
    {
      "cell_type": "markdown",
      "metadata": {
        "id": "cniySbMVLheg"
      },
      "source": [
        "#### 7. The fines collected from all the instances of parking violation constitute a source of revenue for the NYC Police Department. Let’s take an example of estimating this for the three most commonly occurring codes"
      ]
    },
    {
      "cell_type": "code",
      "execution_count": null,
      "metadata": {
        "id": "FvIA3T5tLhey"
      },
      "outputs": [],
      "source": [
        "common_violation = spark.sql(\"select violation_code, count(*) as frequency from nyc_table  group by violation_code order by frequency desc\")\n",
        "common_violation.show(3)"
      ]
    },
    {
      "cell_type": "markdown",
      "metadata": {
        "id": "h8tPmr51Lhez"
      },
      "source": [
        "- Find the total amount collected for the three violation codes with the maximum tickets. State the code that has the highest total collection."
      ]
    },
    {
      "cell_type": "code",
      "execution_count": null,
      "metadata": {
        "id": "geOKDRhoLhez"
      },
      "outputs": [],
      "source": [
        "from pyspark.sql.functions import when\n",
        "common_violation_fine=common_violation.withColumn(\"fine\",when(common_violation.violation_code == 21, (common_violation.frequency) *55).otherwise((common_violation.frequency)*50))\n",
        "common_violation_fine.show(3)\n",
        "print('total collection = ',767740*55+662765*50+541526*50)"
      ]
    },
    {
      "cell_type": "markdown",
      "metadata": {
        "id": "pdGGT_MgLhe0"
      },
      "source": [
        "Code with 21 had the highest collection."
      ]
    },
    {
      "cell_type": "markdown",
      "metadata": {
        "id": "SyCidYJmLhe0"
      },
      "source": [
        "- What can you intuitively infer from these findings?"
      ]
    },
    {
      "cell_type": "code",
      "execution_count": null,
      "metadata": {
        "id": "1toXqnQvLhe1"
      },
      "outputs": [],
      "source": [
        "# 1. posted speed limit criteria is violated the most\n",
        "# 2. Jan to June - major violation\n",
        "# 3. Highest violation : code 21"
      ]
    },
    {
      "cell_type": "code",
      "execution_count": 67,
      "metadata": {
        "id": "Pgi-NwGILhe1"
      },
      "outputs": [],
      "source": [
        "spark.stop()"
      ]
    }
  ],
  "metadata": {
    "kernelspec": {
      "display_name": "Python 3",
      "language": "python",
      "name": "python3"
    },
    "language_info": {
      "codemirror_mode": {
        "name": "ipython",
        "version": 3
      },
      "file_extension": ".py",
      "mimetype": "text/x-python",
      "name": "python",
      "nbconvert_exporter": "python",
      "pygments_lexer": "ipython3",
      "version": "3.7.3"
    },
    "colab": {
      "provenance": [],
      "include_colab_link": true
    },
    "accelerator": "GPU"
  },
  "nbformat": 4,
  "nbformat_minor": 0
}